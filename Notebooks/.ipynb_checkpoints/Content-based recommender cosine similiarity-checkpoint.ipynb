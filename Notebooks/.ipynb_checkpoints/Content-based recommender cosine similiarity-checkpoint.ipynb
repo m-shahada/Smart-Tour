{
 "cells": [
  {
   "cell_type": "code",
   "execution_count": 276,
   "metadata": {},
   "outputs": [],
   "source": [
    "import pandas as pd\n",
    "import numpy as np\n",
    "from sklearn.feature_extraction.text import TfidfVectorizer\n",
    "from sklearn.metrics.pairwise import cosine_similarity"
   ]
  },
  {
   "cell_type": "code",
   "execution_count": 277,
   "metadata": {},
   "outputs": [],
   "source": [
    "pits_od=pd.read_excel('/Users/santiagoborgnino/Documents/Github/Smart-Tour/Datasets/pits_opendata.xls')\n",
    "google_data=pd.read_csv('google_data.csv')"
   ]
  },
  {
   "cell_type": "code",
   "execution_count": 278,
   "metadata": {},
   "outputs": [],
   "source": [
    "pits_od=pits_od.drop(['originalpost','categories','atencio_eq', 'phonenumber','type','tp','date','author','tags','language','pos', 'num', 'city', 'address', 'code_url', 'related_post', 'attachments', 'vignette', 'moreinfo', 'usergroup', 'post_modified', 'original_modified', 'wt', 'sigla', 'sectionname'], axis=1)"
   ]
  },
  {
   "cell_type": "code",
   "execution_count": 279,
   "metadata": {},
   "outputs": [],
   "source": [
    "#Apply upper case for names\n",
    "pits_od['name'] = pits_od['name'].str.upper()\n",
    "pits_od['title']=pits_od['title'].str.upper()\n",
    "#Remove white space at the beginning and end of the name\n",
    "pits_od['name'] = pits_od['name'].str.lstrip()\n"
   ]
  },
  {
   "cell_type": "code",
   "execution_count": 280,
   "metadata": {},
   "outputs": [
    {
     "data": {
      "text/html": [
       "<div>\n",
       "<style scoped>\n",
       "    .dataframe tbody tr th:only-of-type {\n",
       "        vertical-align: middle;\n",
       "    }\n",
       "\n",
       "    .dataframe tbody tr th {\n",
       "        vertical-align: top;\n",
       "    }\n",
       "\n",
       "    .dataframe thead th {\n",
       "        text-align: right;\n",
       "    }\n",
       "</style>\n",
       "<table border=\"1\" class=\"dataframe\">\n",
       "  <thead>\n",
       "    <tr style=\"text-align: right;\">\n",
       "      <th></th>\n",
       "      <th>district</th>\n",
       "      <th>gmapx</th>\n",
       "      <th>gmapy</th>\n",
       "      <th>id</th>\n",
       "      <th>name</th>\n",
       "      <th>title</th>\n",
       "      <th>excerpt</th>\n",
       "      <th>content</th>\n",
       "    </tr>\n",
       "  </thead>\n",
       "  <tbody>\n",
       "    <tr>\n",
       "      <th>0</th>\n",
       "      <td>Sants-Montjuïc</td>\n",
       "      <td>41.361374</td>\n",
       "      <td>2.159711</td>\n",
       "      <td>190829.0</td>\n",
       "      <td>PARC DE MONTJUÏC</td>\n",
       "      <td>EL PARC DE MONTJUÏC</td>\n",
       "      <td>&lt;p&gt;El gran espai natural del parc de Montjuïc ...</td>\n",
       "      <td>&lt;h3&gt;Un turó amb història&lt;/h3&gt;\\r\\n&lt;p&gt;Assentat s...</td>\n",
       "    </tr>\n",
       "    <tr>\n",
       "      <th>2</th>\n",
       "      <td>Sant Martí</td>\n",
       "      <td>41.411034</td>\n",
       "      <td>2.221698</td>\n",
       "      <td>190952.0</td>\n",
       "      <td>EL PARC DEL FÒRUM</td>\n",
       "      <td>EL PARC DEL FÒRUM</td>\n",
       "      <td>&lt;p&gt;El recinte projectat arran de mar per acoll...</td>\n",
       "      <td>&lt;h3&gt;Un gran esdeveniment&lt;/h3&gt;\\r\\n&lt;p&gt;El parc de...</td>\n",
       "    </tr>\n",
       "  </tbody>\n",
       "</table>\n",
       "</div>"
      ],
      "text/plain": [
       "         district      gmapx     gmapy        id               name  \\\n",
       "0  Sants-Montjuïc  41.361374  2.159711  190829.0   PARC DE MONTJUÏC   \n",
       "2      Sant Martí  41.411034  2.221698  190952.0  EL PARC DEL FÒRUM   \n",
       "\n",
       "                 title                                            excerpt  \\\n",
       "0  EL PARC DE MONTJUÏC  <p>El gran espai natural del parc de Montjuïc ...   \n",
       "2    EL PARC DEL FÒRUM  <p>El recinte projectat arran de mar per acoll...   \n",
       "\n",
       "                                             content  \n",
       "0  <h3>Un turó amb història</h3>\\r\\n<p>Assentat s...  \n",
       "2  <h3>Un gran esdeveniment</h3>\\r\\n<p>El parc de...  "
      ]
     },
     "execution_count": 280,
     "metadata": {},
     "output_type": "execute_result"
    }
   ],
   "source": [
    "pits_od=pits_od.drop_duplicates('id')\n",
    "pits_od.head(2)"
   ]
  },
  {
   "cell_type": "code",
   "execution_count": 281,
   "metadata": {},
   "outputs": [
    {
     "name": "stdout",
     "output_type": "stream",
     "text": [
      "El gran espai natural del parc de Montjuïc és el millor lloc per gaudir de la natura i la cultura alhora, perquè és ple de magnífics jardins i d’instal·lacions culturals\n",
      " \n",
      "Un turó amb històriaAssentat sobre el turó que recorre el barri de Sants i mira cap al mar, Montjuïc ha estat testimoni i escenari de múltiples fets transcendentals en la història de Barcelona. Es va començar a urbanitzar a partir de l’Exposició Universal del 1929. Després dels successos dramàtics de la Guerra Civil, en què el castell va funcionar com a presó, l’indret va canviar i, amb els Jocs Olímpics de 1992, es va renovar completament i va tornar a adquirir un caràcter festiu i alegre per als barcelonins.El nom del turó, de 177 metres d’alçària, ha estat un tema de controvèrsia, ja que Montjuïc en català medieval podria traduir-se com a &#8216;Mont dels jueus&#8216;, la qual cosa està avalada per l’existència d’un cementiri jueu a la muntanya.Natura, cultura i esportEn aquest gran pulmó verd de la ciutat s’hi troben nombrosos jardins on es pot passejar, descansar, jugar, fer esport o, simplement, gaudir de la natura. El Jardí Botànic desplega la seva col·lecció de plantes mediterrànies en un terreny marcat per forts desnivells que es converteix en un gran mirador. També es pot gaudir de vegetació i bones vistes als jardins de Mossèn Costa i Llobera, especialitzat en cactus, i als jardins de Mossèn Cinto Verdaguer, amb una col·lecció de flors de nombroses espècies que el fan estar florit tot l’any. Els jardins de Laribal, amb cascades sorprenents, amaguen la popular font del Gat, on els barcelonins antigament anaven a berenar el diumenge. I els jardins Joan Brossa, uns dels més nous, s’obren com un refrescant parc forestal esquitxat de coixins musicals, jocs i tirolines que són les delícies dels nens.Farcit d’instal·lacions culturals i esportives, com ara la Fundació Miró, el Caixa Forum, les piscines Bernat Picornell o l’Estadi Olímpic Lluís Companys, Montjuïc ofereix cultura, natura i història tot en un. La Font Màgica o el Poble Espanyol són també punts de gran atractiu i interès per visitar dins un espai natural enorme i ple de racons secrets per descobrir. \n"
     ]
    }
   ],
   "source": [
    "#Removing noise strings from exceprt\n",
    "pits_od['excerpt'] = pits_od['excerpt'].str.replace('<p>', '')\n",
    "pits_od['excerpt'] = pits_od['excerpt'].str.replace('</p', '')\n",
    "pits_od['excerpt'] = pits_od['excerpt'].str.replace('.>', '')\n",
    "\n",
    "\n",
    "#Removing noise strings from content\n",
    "pits_od['content']=pits_od['content'].str.replace('<h3>', '' )\n",
    "pits_od['content']=pits_od['content'].str.replace('</h3>', '' )\n",
    "pits_od['content']=pits_od['content'].str.replace('\\r\\n', '' )\n",
    "pits_od['content']=pits_od['content'].str.replace('<p>', '' )\n",
    "pits_od['content']=pits_od['content'].str.replace('<strong>', '' )\n",
    "pits_od['content']=pits_od['content'].str.replace('</strong>', '' )\n",
    "pits_od['content']=pits_od['content'].str.replace('</p>', '' )\n",
    "pits_od['content']=pits_od['content'].str.replace('<!-- .photo-galleria -->', '' )\n",
    "\n",
    "print(pits_od.excerpt[0])\n",
    "print(\" \")\n",
    "print(pits_od.content[0])"
   ]
  },
  {
   "cell_type": "code",
   "execution_count": 282,
   "metadata": {},
   "outputs": [],
   "source": [
    "pits_od['excerpt'] = pits_od['excerpt'].fillna('')"
   ]
  },
  {
   "cell_type": "code",
   "execution_count": 283,
   "metadata": {},
   "outputs": [
    {
     "data": {
      "text/plain": [
       "0      Un turó amb històriaAssentat sobre el turó que...\n",
       "2      Un gran esdevenimentEl parc del Fòrum és l&#82...\n",
       "3      &#8220;Planeta Vida&#8221;El Museu de Ciències...\n",
       "4      Natura urbanaPollancres, acàcies, magnòlies&#8...\n",
       "5      Un amfiteatre naturalEntre el Castell de Montj...\n",
       "                             ...                        \n",
       "847    Un parc d’ociEls terrenys que ocupava la fàbri...\n",
       "848    Les pintures de Pere PrunaLa pintura de Pruna ...\n",
       "849    Espai de prestigiPensat per ser un recinte des...\n",
       "850    Activitats al carrerL’eix, que forma part de l...\n",
       "851                                                  NaN\n",
       "Name: content, Length: 851, dtype: object"
      ]
     },
     "execution_count": 283,
     "metadata": {},
     "output_type": "execute_result"
    }
   ],
   "source": [
    "pits_od['content']"
   ]
  },
  {
   "cell_type": "code",
   "execution_count": 284,
   "metadata": {},
   "outputs": [],
   "source": [
    "google_data.set_index('name', inplace=True)\n",
    "pits_od.set_index('title', inplace=True)"
   ]
  },
  {
   "cell_type": "code",
   "execution_count": 285,
   "metadata": {},
   "outputs": [],
   "source": [
    "pits_od=pits_od.join(google_data, how='inner')"
   ]
  },
  {
   "cell_type": "code",
   "execution_count": 286,
   "metadata": {},
   "outputs": [],
   "source": [
    "pits_od.reset_index(inplace=True)"
   ]
  },
  {
   "cell_type": "code",
   "execution_count": 287,
   "metadata": {},
   "outputs": [
    {
     "data": {
      "text/plain": [
       "(52, 40)"
      ]
     },
     "execution_count": 287,
     "metadata": {},
     "output_type": "execute_result"
    }
   ],
   "source": [
    "pits_od.shape"
   ]
  },
  {
   "cell_type": "code",
   "execution_count": 305,
   "metadata": {},
   "outputs": [
    {
     "data": {
      "text/plain": [
       "Index(['index', 'district', 'gmapx', 'gmapy', 'id', 'name', 'excerpt',\n",
       "       'content', 'categoryName', 'temporarilyClosed', 'permanentlyClosed',\n",
       "       'totalScore', 'location', 'popularTimesHistogram', 'reviewsCount',\n",
       "       'latitud', 'longitud', 'tipo', '1994', '2000', '2011', '2014', '2015',\n",
       "       '2016', '2017', '2018', '2019', 'Average', '1', '2', '3', '4', '5', '6',\n",
       "       '7', '8', '9', '10', '11', '12'],\n",
       "      dtype='object')"
      ]
     },
     "execution_count": 305,
     "metadata": {},
     "output_type": "execute_result"
    }
   ],
   "source": [
    "pits_od.columns"
   ]
  },
  {
   "cell_type": "code",
   "execution_count": 306,
   "metadata": {},
   "outputs": [],
   "source": [
    "pits_od=pits_od[~pits_od['excerpt'].isna()]"
   ]
  },
  {
   "cell_type": "code",
   "execution_count": 307,
   "metadata": {},
   "outputs": [],
   "source": [
    "pits_od['excerpt']=pits_od['excerpt']+pits_od['excerpt']"
   ]
  },
  {
   "cell_type": "code",
   "execution_count": 308,
   "metadata": {},
   "outputs": [],
   "source": [
    "tfidf = TfidfVectorizer(max_df=0.95)\n",
    "tfidf_matrix = tfidf.fit_transform(pits_od['excerpt'])"
   ]
  },
  {
   "cell_type": "code",
   "execution_count": 309,
   "metadata": {},
   "outputs": [
    {
     "name": "stdout",
     "output_type": "stream",
     "text": [
      "['14', '14la', '1888', '1893', '1926', '1929', '1946', '1991', '2001', '2001l', '450', 'abraça', 'accedeix', 'accedir', 'acomiada', 'actiu', 'activitats', 'actualitat', 'actualitatnascuda', 'actualment', 'acull', 'agosarades', 'aixecar', 'així', 'al', 'alberga', 'allotja', 'als', 'alta', 'altres', 'alça', 'amaga', 'amagat', 'amb', 'animals', 'antenes', 'antic', 'antiga', 'antigues', 'antoni', 'any', 'anys', 'apropa', 'apropar', 'aquest', 'aquàrium', 'ara', 'arqueologia', 'arqueològiques', 'arquitecte', 'arquitectura', 'arquitectònic', 'arreu', 'art', 'arts', 'artística', 'artístiques', 'atalaia', 'atraccions', 'autòmats', 'avantguardista', 'avinguda', 'avui', 'banc', 'barcelona', 'barcelonael', 'barcelonal', 'barcelonala', 'barcelonaobra', 'barcelonasímbol', 'barcelonatestimoni', 'barri', 'barroc', 'barça', 'batlló', 'bell', 'bellesa', 'blau', 'born', 'cabines', 'cada', 'caixaforum', 'camp', 'can', 'cantonada', 'captiva', 'característica', 'carrers', 'casa', 'castell', 'catalunya', 'catalunyal', 'català', 'catalàubicada', 'cedir', 'cel', 'celsímbol', 'centenari', 'centenària', 'centre', 'centres', 'cera', 'cim', 'ciutadans', 'ciutat', 'ciutatdes', 'ciutatel', 'ciutatl', 'ciència', 'ciències', 'claustre', 'club', 'coats', 'col', 'colectania', 'collserola', 'colom', 'colossal', 'com', 'començament', 'complet', 'complexitat', 'comportar', 'comtal', 'comtalel', 'comunitats', 'concebut', 'conegut', 'coneguts', 'coneixement', 'conjunta', 'connexió', 'consciència', 'conserva', 'conservació', 'considerat', 'contemporani', 'contemporaniamagat', 'contemporània', 'convertit', 'convida', 'conèixer', 'cor', 'cosmocaixa', 'creacions', 'creacionsla', 'creació', 'creaciól', 'creativa', 'creativitat', 'cultura', 'cultural', 'culturals', 'cultures', 'darrere', 'decidir', 'del', 'deliciós', 'deliciósdarrere', 'dels', 'der', 'des', 'descobreix', 'devot', 'dia', 'diagonal', 'diferent', 'diferents', 'diferentsno', 'difusió', 'dins', 'directa', 'disseny', 'dissenyar', 'distingeix', 'diverses', 'domènech', 'dos', 'drac', 'dracl', 'drassanes', 'durant', 'dóna', 'edifici', 'edificis', 'egipci', 'egiptologia', 'eix', 'eixample', 'el', 'elaborades', 'elements', 'elevant', 'els', 'embarcacions', 'emblemes', 'emblemàtic', 'emissió', 'emissora', 'emmarca', 'en', 'enllà', 'ens', 'entorn', 'entre', 'epicentre', 'es', 'escala', 'esclat', 'escultor', 'escultura', 'espai', 'espanya', 'espanyales', 'espanyol', 'espanyola', 'especialment', 'espectaculars', 'esperit', 'esplendor', 'esplendorel', 'esport', 'esportiu', 'espècies', 'essencial', 'estadi', 'estat', 'estaven', 'estil', 'estudi', 'està', 'estàtua', 'etnològic', 'europa', 'evolució', 'excel', 'exercici', 'exhibeix', 'exhibeixal', 'experiència', 'exposició', 'extraordinaris', 'fa', 'fabra', 'falda', 'famosa', 'família', 'famós', 'fantasia', 'fantasiós', 'façana', 'fer', 'ferotges', 'figures', 'filatures', 'fins', 'fons', 'forma', 'formes', 'fos', 'fosca', 'foto', 'fotografia', 'framis', 'frederic', 'fundació', 'funicular', 'futbol', 'futurista', 'fàbrica', 'fàbriques', 'físic', 'fòrum', 'gaudir', 'gaudí', 'gaudíamb', 'gaudíelevant', 'gaudíla', 'gegantina', 'gegantinaa', 'genial', 'glòries', 'golondrinas', 'gran', 'grans', 'grapadora', 'gremi', 'gràcia', 'guerrers', 'gòtica', 'güell', 'ha', 'hi', 'història', 'històric', 'homenatge', 'horta', 'hospital', 'hub', 'ibèrica', 'ibèricaun', 'imatge', 'imponents', 'important', 'imprescindible', 'impressionant', 'impressionanta', 'impressionants', 'impulsar', 'indrets', 'industrial', 'inicis', 'innovació', 'internacional', 'internacionalla', 'jardins', 'jardí', 'joan', 'joia', 'joies', 'joventut', 'la', 'laberint', 'las', 'lecció', 'lent', 'les', 'litoral', 'litoraltestimoni', 'lloc', 'llom', 'lluís', 'macba', 'magnífic', 'magnífica', 'mar', 'marcar', 'marès', 'marèsl', 'marí', 'marítim', 'material', 'materialubicat', 'medieval', 'memòria', 'ment', 'mercat', 'mestra', 'mestres', 'mies', 'mig', 'millor', 'millors', 'miradors', 'miró', 'misteris', 'modernisme', 'modernista', 'molt', 'molts', 'monestir', 'montaner', 'montjuïc', 'mostra', 'mostrar', 'mundial', 'muntanya', 'museu', 'mà', 'màsituat', 'més', 'mònica', 'món', 'mónamb', 'nacional', 'nascuda', 'natura', 'natural', 'naturals', 'naturaubicat', 'navegant', 'neixen', 'neoclàssic', 'no', 'nom', 'només', 'nou', 'nous', 'nouveau', 'noves', 'número', 'obert', 'objectiu', 'obra', 'obres', 'obrir', 'observar', 'ofereix', 'ofereixen', 'oferir', 'olfacte', 'olímpic', 'olímpica', 'on', 'ondulada', 'original', 'paisatgisme', 'palau', 'panoràmic', 'panoràmica', 'panoràmicfer', 'parc', 'park', 'part', 'passeig', 'pastisseria', 'pau', 'pavelló', 'país', 'peces', 'pedralbes', 'pedrera', 'pel', 'península', 'per', 'perfum', 'permet', 'persones', 'petit', 'picasso', 'pintor', 'pintorubicat', 'pintura', 'plaça', 'ple', 'poble', 'pobles', 'poden', 'populars', 'port', 'porta', 'portes', 'posicionat', 'possibilitat', 'pot', 'preciós', 'prehistòria', 'pren', 'prendre', 'presenta', 'presideix', 'prestigi', 'prestigiconsiderat', 'primera', 'primeres', 'primers', 'principal', 'privilegiada', 'producte', 'prop', 'propostes', 'públiques', 'que', 'qui', 'racionalista', 'rambla', 'raval', 'recinte', 'recorregut', 'recorren', 'recuperat', 'referent', 'referència', 'reials', 'relació', 'remodelat', 'rep', 'repertori', 'residència', 'restes', 'ret', 'ribera', 'robert', 'rohe', 'romans', 'romànica', 'romànicael', 'ràdio', 'sagrada', 'sant', 'santa', 'se', 'secret', 'segle', 'segles', 'seixanta', 'sembla', 'ser', 'seu', 'seus', 'seva', 'seves', 'si', 'silueta', 'singular', 'sinó', 'situades', 'situat', 'sobre', 'sobrevolen', 'social', 'socialles', 'sortida', 'sostre', 'suñol', 'sèrie', 'símbol', 'són', 'tallers', 'també', 'tard', 'telefèric', 'tenir', 'terrat', 'testimoni', 'tibidabo', 'tingui', 'tocar', 'torre', 'tothom', 'tothoma', 'tradició', 'transforma', 'transformació', 'transformar', 'transformat', 'transport', 'traçat', 'trobar', 'turístiques', 'tàpies', 'té', 'ubicada', 'ubicat', 'un', 'una', 'uneix', 'univers', 'va', 'valuosa', 'valuoses', 'van', 'vell', 'vertigen', 'vestigis', 'vestigisl', 'vicens', 'vida', 'vila', 'vincle', 'virreina', 'visitats', 'visió', 'vista', 'vistes', 'viu', 'viuen', 'viure', 'xemeneies', 'xix', 'xocolata', 'xviii', 'xx', 'xxel', 'xxi', 'zona', 'zoo', 'àmbit', 'època', 'és', 'íntim', 'única', 'únicaamb']\n"
     ]
    }
   ],
   "source": [
    "print(tfidf.get_feature_names())"
   ]
  },
  {
   "cell_type": "code",
   "execution_count": 310,
   "metadata": {},
   "outputs": [
    {
     "data": {
      "text/plain": [
       "<52x583 sparse matrix of type '<class 'numpy.float64'>'\n",
       "\twith 1178 stored elements in Compressed Sparse Row format>"
      ]
     },
     "execution_count": 310,
     "metadata": {},
     "output_type": "execute_result"
    }
   ],
   "source": [
    "tfidf_matrix"
   ]
  },
  {
   "cell_type": "code",
   "execution_count": 311,
   "metadata": {},
   "outputs": [],
   "source": [
    "cosine_sim = cosine_similarity(tfidf_matrix, tfidf_matrix)"
   ]
  },
  {
   "cell_type": "code",
   "execution_count": 312,
   "metadata": {},
   "outputs": [
    {
     "data": {
      "text/plain": [
       "array([[1.        , 0.04738755, 0.14791439, 0.09534911, 0.0089621 ,\n",
       "        0.01610778, 0.01711798, 0.01908065, 0.04125882, 0.06390116,\n",
       "        0.0346971 , 0.0325171 , 0.03156422, 0.10265274, 0.03563322,\n",
       "        0.0160623 , 0.05888384, 0.10112183, 0.089475  , 0.03410633,\n",
       "        0.05575343, 0.0509339 , 0.02619453, 0.0346517 , 0.0114983 ,\n",
       "        0.02012549, 0.06167105, 0.13553847, 0.02438165, 0.0365317 ,\n",
       "        0.        , 0.12920182, 0.03902874, 0.04470306, 0.15006322,\n",
       "        0.04506978, 0.02345818, 0.06133653, 0.02796211, 0.03452358,\n",
       "        0.09572737, 0.08411015, 0.05384222, 0.10166336, 0.01925569,\n",
       "        0.05607888, 0.02771643, 0.04989679, 0.02371972, 0.03314645,\n",
       "        0.03142933, 0.03822821],\n",
       "       [0.04738755, 1.        , 0.05914298, 0.12125004, 0.07167053,\n",
       "        0.03901422, 0.0894438 , 0.06943987, 0.19551349, 0.02561155,\n",
       "        0.08045047, 0.13138626, 0.0543655 , 0.14119669, 0.12913822,\n",
       "        0.04472688, 0.14731058, 0.19148484, 0.09162598, 0.11966488,\n",
       "        0.06983447, 0.04970366, 0.0366432 , 0.12804941, 0.03722307,\n",
       "        0.07105915, 0.09047778, 0.06230001, 0.04805901, 0.11907983,\n",
       "        0.13042835, 0.10744316, 0.13613321, 0.09719281, 0.11065739,\n",
       "        0.06509773, 0.13921343, 0.09883063, 0.0997462 , 0.12036016,\n",
       "        0.08205095, 0.10423989, 0.13912583, 0.16807848, 0.0357117 ,\n",
       "        0.02667725, 0.08435945, 0.11036391, 0.08679941, 0.08475304,\n",
       "        0.14042795, 0.16060125],\n",
       "       [0.14791439, 0.05914298, 1.        , 0.02889416, 0.03987234,\n",
       "        0.07086016, 0.0363579 , 0.10700482, 0.04858415, 0.0221255 ,\n",
       "        0.02099491, 0.07303504, 0.04269264, 0.07869168, 0.025517  ,\n",
       "        0.05477851, 0.02691476, 0.03730491, 0.08464822, 0.02460418,\n",
       "        0.03546314, 0.06211614, 0.04594993, 0.04955845, 0.05261535,\n",
       "        0.03503621, 0.09788827, 0.04268688, 0.09825181, 0.07226175,\n",
       "        0.05301269, 0.04531203, 0.06999639, 0.07850809, 0.04364081,\n",
       "        0.02498153, 0.05002489, 0.04042591, 0.02374139, 0.17917973,\n",
       "        0.07026462, 0.10221791, 0.04415919, 0.07597901, 0.04596518,\n",
       "        0.03786672, 0.00759361, 0.04095573, 0.05132877, 0.05355838,\n",
       "        0.02395566, 0.06996173],\n",
       "       [0.09534911, 0.12125004, 0.02889416, 1.        , 0.04175559,\n",
       "        0.04064837, 0.11665698, 0.03367   , 0.05391338, 0.02113702,\n",
       "        0.04116366, 0.06357083, 0.0150005 , 0.09933604, 0.10844594,\n",
       "        0.07083639, 0.047601  , 0.09668225, 0.03999378, 0.12547238,\n",
       "        0.02594657, 0.03972503, 0.06616197, 0.07127661, 0.03473955,\n",
       "        0.05076398, 0.08902285, 0.09947068, 0.01209619, 0.09250233,\n",
       "        0.03662115, 0.10030805, 0.05990768, 0.04514844, 0.11456122,\n",
       "        0.02315686, 0.11527792, 0.03820239, 0.04915639, 0.05261359,\n",
       "        0.04524299, 0.0927535 , 0.06239026, 0.05822183, 0.03339234,\n",
       "        0.04750918, 0.09566946, 0.05289499, 0.0519782 , 0.05625207,\n",
       "        0.08632279, 0.13583837]])"
      ]
     },
     "execution_count": 312,
     "metadata": {},
     "output_type": "execute_result"
    }
   ],
   "source": [
    "cosine_sim[0:4]"
   ]
  },
  {
   "cell_type": "code",
   "execution_count": 313,
   "metadata": {},
   "outputs": [],
   "source": [
    "indices = pd.Series(pits_od.index, index=pits_od['index'])"
   ]
  },
  {
   "cell_type": "code",
   "execution_count": 314,
   "metadata": {},
   "outputs": [
    {
     "data": {
      "text/plain": [
       "index\n",
       "AQUARIUM BARCELONA DE GREG                            0\n",
       "BARCELONA MUSEUM OF CONTEMPORARY ART                  1\n",
       "BARCELONA ZOO                                         2\n",
       "CAIXAFORUM BARCELONA                                  3\n",
       "CASA BATLLÓ                                           4\n",
       "CASA MILÀ                                             5\n",
       "CASA VICENS GAUDÍ                                     6\n",
       "CATALAN MUSEUM OF ARCHAEOLOGY                         7\n",
       "CENTRE DE CULTURA CONTEMPORÀNIA DE BARCELONA          8\n",
       "COLUMBUS MONUMENT                                     9\n",
       "COSMOCAIXA BARCELONA                                 10\n",
       "EL BORN CENTRE DE CULTURA I MEMÒRIA                  11\n",
       "FABRA I COATS                                        12\n",
       "FC BARCELONA MUSEUM                                  13\n",
       "FUNDACIÓ ANTONI TÀPIES                               14\n",
       "FUNDACIÓ FOTO COLECTANIA                             15\n",
       "FUNDACIÓ SUÑOL                                       16\n",
       "FUNDACIÓ VILA CASAS                                  17\n",
       "GAUDÍ HOUSE MUSEUM                                   18\n",
       "GÜELL PALACE                                         19\n",
       "JOAN MIRÓ FOUNDATION                                 20\n",
       "LA SAGRADA FAMILIA                                   21\n",
       "LAS GOLONDRINAS / PORT DE BARCELONA                  22\n",
       "MARITIME MUSEUM                                      23\n",
       "MIES VAN DER ROHE PAVILION                           24\n",
       "MONASTERIO DE PEDRALBES                              25\n",
       "MONTJUÏC CASTLE                                      26\n",
       "MUSEU D'AUTÒMATS                                     27\n",
       "MUSEU D'HISTÒRIA DE BARCELONA MUHBA                  28\n",
       "MUSEU DE CERA DE BARCELONA                           29\n",
       "MUSEU DE CIÈNCIES NATURALS DE BARCELONA              30\n",
       "MUSEU DE LA XOCOLATA                                 31\n",
       "MUSEU DEL DISSENY DE BARCELONA                       32\n",
       "MUSEU DEL MODERNISME CATALÀ                          33\n",
       "MUSEU EGIPCI DE BARCELONA                            34\n",
       "MUSEU ETNOLÒGIC I DE CULTURES DEL MÓN                35\n",
       "MUSEU FREDERIC MARÈS                                 36\n",
       "MUSEU NACIONAL D'ART DE CATALUNYA                    37\n",
       "MUSEU OLÍMPIC I DE L'ESPORT JOAN ANTONI SAMARANCH    38\n",
       "PALAU ROBERT                                         39\n",
       "PARC DEL LABERINT D'HORTA                            40\n",
       "PARK GÜELL                                           41\n",
       "PERFUME MUSEUM                                       42\n",
       "PICASSO MUSEUM                                       43\n",
       "POBLE ESPANYOL                                       44\n",
       "RECINTE MODERNISTA DE SANT PAU                       45\n",
       "SANTA MÒNICA                                         46\n",
       "TELEFÈRIC DE MONTJUÏC (BARCELONA CABLE CAR)          47\n",
       "TIBIDABO AMUSEMENT PARK                              48\n",
       "TIBIDABO FUNICULAR                                   49\n",
       "TORRE DE COLLSEROLA                                  50\n",
       "VIRREINA PALACE                                      51\n",
       "dtype: int64"
      ]
     },
     "execution_count": 314,
     "metadata": {},
     "output_type": "execute_result"
    }
   ],
   "source": [
    "indices"
   ]
  },
  {
   "cell_type": "code",
   "execution_count": 244,
   "metadata": {},
   "outputs": [],
   "source": [
    "indices = indices[~indices.index.duplicated(keep='last')]"
   ]
  },
  {
   "cell_type": "code",
   "execution_count": 315,
   "metadata": {},
   "outputs": [],
   "source": [
    "def content_based_recommender(title, cosine_sim, dataframe):\n",
    "\n",
    "    dataframe = dataframe[~dataframe[\"index\"].isna()]\n",
    "    indices = pd.Series(dataframe.index, index=dataframe['index'])\n",
    "    indices = indices[~indices.index.duplicated(keep='last')]\n",
    "\n",
    "    movie_index = indices[title]\n",
    "\n",
    "    similarity_scores = pd.DataFrame(cosine_sim[movie_index], columns=[\"score\"])\n",
    "\n",
    "    movie_indices = similarity_scores.sort_values(\"score\", ascending=False)[1:11].index\n",
    "    return dataframe['index'].iloc[movie_indices]"
   ]
  },
  {
   "cell_type": "code",
   "execution_count": 318,
   "metadata": {},
   "outputs": [
    {
     "data": {
      "text/plain": [
       "51                         VIRREINA PALACE\n",
       "23                         MARITIME MUSEUM\n",
       "17                     FUNDACIÓ VILA CASAS\n",
       "34               MUSEU EGIPCI DE BARCELONA\n",
       "1     BARCELONA MUSEUM OF CONTEMPORARY ART\n",
       "29              MUSEU DE CERA DE BARCELONA\n",
       "20                    JOAN MIRÓ FOUNDATION\n",
       "32          MUSEU DEL DISSENY DE BARCELONA\n",
       "26                         MONTJUÏC CASTLE\n",
       "37       MUSEU NACIONAL D'ART DE CATALUNYA\n",
       "Name: index, dtype: object"
      ]
     },
     "execution_count": 318,
     "metadata": {},
     "output_type": "execute_result"
    }
   ],
   "source": [
    "content_based_recommender(\"MUSEU DE CIÈNCIES NATURALS DE BARCELONA\", cosine_sim, pits_od)"
   ]
  },
  {
   "cell_type": "code",
   "execution_count": 317,
   "metadata": {},
   "outputs": [
    {
     "data": {
      "text/html": [
       "<div>\n",
       "<style scoped>\n",
       "    .dataframe tbody tr th:only-of-type {\n",
       "        vertical-align: middle;\n",
       "    }\n",
       "\n",
       "    .dataframe tbody tr th {\n",
       "        vertical-align: top;\n",
       "    }\n",
       "\n",
       "    .dataframe thead th {\n",
       "        text-align: right;\n",
       "    }\n",
       "</style>\n",
       "<table border=\"1\" class=\"dataframe\">\n",
       "  <thead>\n",
       "    <tr style=\"text-align: right;\">\n",
       "      <th></th>\n",
       "      <th>index</th>\n",
       "      <th>district</th>\n",
       "      <th>gmapx</th>\n",
       "      <th>gmapy</th>\n",
       "      <th>id</th>\n",
       "      <th>name</th>\n",
       "      <th>excerpt</th>\n",
       "      <th>content</th>\n",
       "      <th>categoryName</th>\n",
       "      <th>temporarilyClosed</th>\n",
       "      <th>...</th>\n",
       "      <th>3</th>\n",
       "      <th>4</th>\n",
       "      <th>5</th>\n",
       "      <th>6</th>\n",
       "      <th>7</th>\n",
       "      <th>8</th>\n",
       "      <th>9</th>\n",
       "      <th>10</th>\n",
       "      <th>11</th>\n",
       "      <th>12</th>\n",
       "    </tr>\n",
       "  </thead>\n",
       "  <tbody>\n",
       "    <tr>\n",
       "      <th>30</th>\n",
       "      <td>MUSEU DE CIÈNCIES NATURALS DE BARCELONA</td>\n",
       "      <td>Sant Martí</td>\n",
       "      <td>41.41078</td>\n",
       "      <td>2.220482</td>\n",
       "      <td>190945.0</td>\n",
       "      <td>MUSEU DE CIÈNCIES NATURALS DE BARCELONA</td>\n",
       "      <td>Ubicat en el singular Edifici Fòrum, el Museu ...</td>\n",
       "      <td>&amp;#8220;Planeta Vida&amp;#8221;El Museu de Ciències...</td>\n",
       "      <td>Natural history museum</td>\n",
       "      <td>False</td>\n",
       "      <td>...</td>\n",
       "      <td>15255.077417</td>\n",
       "      <td>20867.947588</td>\n",
       "      <td>23557.568628</td>\n",
       "      <td>26338.719198</td>\n",
       "      <td>30748.810596</td>\n",
       "      <td>30751.662672</td>\n",
       "      <td>25133.631203</td>\n",
       "      <td>20205.384706</td>\n",
       "      <td>12791.534606</td>\n",
       "      <td>11630.69347</td>\n",
       "    </tr>\n",
       "  </tbody>\n",
       "</table>\n",
       "<p>1 rows × 40 columns</p>\n",
       "</div>"
      ],
      "text/plain": [
       "                                      index    district     gmapx     gmapy  \\\n",
       "30  MUSEU DE CIÈNCIES NATURALS DE BARCELONA  Sant Martí  41.41078  2.220482   \n",
       "\n",
       "          id                                     name  \\\n",
       "30  190945.0  MUSEU DE CIÈNCIES NATURALS DE BARCELONA   \n",
       "\n",
       "                                              excerpt  \\\n",
       "30  Ubicat en el singular Edifici Fòrum, el Museu ...   \n",
       "\n",
       "                                              content            categoryName  \\\n",
       "30  &#8220;Planeta Vida&#8221;El Museu de Ciències...  Natural history museum   \n",
       "\n",
       "    temporarilyClosed  ...             3             4             5  \\\n",
       "30              False  ...  15255.077417  20867.947588  23557.568628   \n",
       "\n",
       "               6             7             8             9            10  \\\n",
       "30  26338.719198  30748.810596  30751.662672  25133.631203  20205.384706   \n",
       "\n",
       "              11           12  \n",
       "30  12791.534606  11630.69347  \n",
       "\n",
       "[1 rows x 40 columns]"
      ]
     },
     "execution_count": 317,
     "metadata": {},
     "output_type": "execute_result"
    }
   ],
   "source": [
    "pits_od[pits_od['name']=='MUSEU DE CIÈNCIES NATURALS DE BARCELONA']"
   ]
  },
  {
   "cell_type": "code",
   "execution_count": 76,
   "metadata": {},
   "outputs": [
    {
     "data": {
      "text/plain": [
       "32    Elevant-se al cel, la Sagrada Família és la si...\n",
       "Name: excerpt, dtype: object"
      ]
     },
     "execution_count": 76,
     "metadata": {},
     "output_type": "execute_result"
    }
   ],
   "source": [
    "pits_od[pits_od['title'].str.contains('Sagrada')]['excerpt']"
   ]
  },
  {
   "cell_type": "code",
   "execution_count": null,
   "metadata": {},
   "outputs": [],
   "source": []
  }
 ],
 "metadata": {
  "kernelspec": {
   "display_name": "Python 3",
   "language": "python",
   "name": "python3"
  },
  "language_info": {
   "codemirror_mode": {
    "name": "ipython",
    "version": 3
   },
   "file_extension": ".py",
   "mimetype": "text/x-python",
   "name": "python",
   "nbconvert_exporter": "python",
   "pygments_lexer": "ipython3",
   "version": "3.8.5"
  }
 },
 "nbformat": 4,
 "nbformat_minor": 4
}
