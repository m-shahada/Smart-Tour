{
 "cells": [
  {
   "cell_type": "code",
   "execution_count": 58,
   "metadata": {},
   "outputs": [],
   "source": [
    "#Content-based recommender system using cosinde similarity function\n",
    "def function(input1, input2):\n",
    "    import pandas as pd\n",
    "    import numpy as np\n",
    "    \n",
    "    model_data=pd.read_csv('model_data.csv')\n",
    "    model_data_content=pd.read_csv('model_data_content.csv')\n",
    "    df_user=model_data_content[(model_data_content['name']==input1) | (model_data_content['name']==input2)].set_index('name')\n",
    "    df_user.drop('Unnamed: 0', axis=1, inplace=True)\n",
    "    userProfile=df_user.transpose().sum(axis=1)\n",
    "    userProfile.to_frame().transpose()\n",
    "    model_data_content2=model_data_content.set_index('name')\n",
    "    recommendationTable = ((model_data_content2*userProfile).sum(axis=1))/(userProfile.sum())\n",
    "    recommendationTable=recommendationTable.sort_values(ascending=False).head(5).to_frame()\n",
    "    recommendationTable.reset_index(inplace=True)\n",
    "    recommendationTable.columns=['name', 'dotProduct']\n",
    "    recommended_itinerary=[]\n",
    "    \n",
    "    for i in recommendationTable['name'].head(5):\n",
    "        recommended_itinerary.append(i)\n",
    "    \n",
    "    graph={recommended_itinerary[0]:{recommended_itinerary[1]:6, recommended_itinerary[2]:2}, \n",
    "      recommended_itinerary[1]:{recommended_itinerary[0]:6,recommended_itinerary[2]:2, recommended_itinerary[3]:1, recommended_itinerary[4]:2},\n",
    "       recommended_itinerary[2]:{recommended_itinerary[0]:2,recommended_itinerary[1]:2, recommended_itinerary[3]:2,recommended_itinerary[4]:3},\n",
    "      recommended_itinerary[3]:{recommended_itinerary[1]:1, recommended_itinerary[2]:2,recommended_itinerary[4]:3},\n",
    "       recommended_itinerary[4]:{recommended_itinerary[2]:3,recommended_itinerary[1]:2,recommended_itinerary[3]:3}}\n",
    "    newlist=list()\n",
    "    for i in graph.keys():\n",
    "        newlist.append(i)\n",
    "    return graph, newlist"
   ]
  },
  {
   "cell_type": "code",
   "execution_count": 59,
   "metadata": {},
   "outputs": [],
   "source": [
    "graph, places=function('LA SAGRADA FAMILIA', 'PARK GÜELL')"
   ]
  },
  {
   "cell_type": "code",
   "execution_count": 61,
   "metadata": {},
   "outputs": [
    {
     "name": "stdout",
     "output_type": "stream",
     "text": [
      "shortest path - array: ['GÜELL PALACE', 'CASA BATLLÓ', 'LA SAGRADA FAMILIA']\n",
      "path: LA SAGRADA FAMILIA--->CASA BATLLÓ--->GÜELL PALACE,   cost=5\n"
     ]
    }
   ],
   "source": [
    "#Dijkstra algorithm function\n",
    "\n",
    "def dijkstra(graph,src,dest,visited=[],distances={},predecessors={}):\n",
    "    \"\"\" calculates a shortest path tree routed in src\n",
    "    \"\"\"    \n",
    "    # a few sanity checks\n",
    "    if src not in graph:\n",
    "        raise TypeError('The root of the shortest path tree cannot be found')\n",
    "    if dest not in graph:\n",
    "        raise TypeError('The target of the shortest path cannot be found')    \n",
    "    # ending condition\n",
    "    if src == dest:\n",
    "        # We build the shortest path and display it\n",
    "        path=[]\n",
    "        pred=dest\n",
    "        while pred != None:\n",
    "            path.append(pred)\n",
    "            pred=predecessors.get(pred,None)\n",
    "        # reverses the array, to display the path nicely\n",
    "        readable=path[0]\n",
    "        for index in range(1,len(path)): readable = path[index]+'--->'+readable\n",
    "        #prints it \n",
    "        print('shortest path - array: '+str(path))\n",
    "        print(\"path: \"+readable+\",   cost=\"+str(distances[dest]))     \n",
    "    else:     \n",
    "        # if it is the initial  run, initializes the cost\n",
    "        if not visited: \n",
    "            distances[src]=0\n",
    "        # visit the neighbors\n",
    "        for neighbor in graph[src] :\n",
    "            if neighbor not in visited:\n",
    "                new_distance = distances[src] + graph[src][neighbor]\n",
    "                if new_distance < distances.get(neighbor,float('inf')):\n",
    "                    distances[neighbor] = new_distance\n",
    "                    predecessors[neighbor] = src\n",
    "        # mark as visited\n",
    "        visited.append(src)\n",
    "        # now that all neighbors have been visited: recurse                         \n",
    "        # select the non visited node with lowest distance 'x'\n",
    "        # run Dijskstra with src='x'\n",
    "        unvisited={}\n",
    "        for k in graph:\n",
    "            if k not in visited:\n",
    "                unvisited[k] = distances.get(k,float('inf'))        \n",
    "        x=min(unvisited, key=unvisited.get)\n",
    "        dijkstra(graph,x,dest,visited,distances,predecessors)\n",
    "        \n",
    "\n",
    "\n",
    "if __name__ == \"__main__\":\n",
    "    #import sys;sys.argv = ['', 'Test.testName']\n",
    "    #unittest.main()\n",
    "    \n",
    "    dijkstra(graph,places[0], places[4])"
   ]
  },
  {
   "cell_type": "code",
   "execution_count": null,
   "metadata": {},
   "outputs": [],
   "source": []
  }
 ],
 "metadata": {
  "kernelspec": {
   "display_name": "Python 3",
   "language": "python",
   "name": "python3"
  },
  "language_info": {
   "codemirror_mode": {
    "name": "ipython",
    "version": 3
   },
   "file_extension": ".py",
   "mimetype": "text/x-python",
   "name": "python",
   "nbconvert_exporter": "python",
   "pygments_lexer": "ipython3",
   "version": "3.8.5"
  }
 },
 "nbformat": 4,
 "nbformat_minor": 4
}
