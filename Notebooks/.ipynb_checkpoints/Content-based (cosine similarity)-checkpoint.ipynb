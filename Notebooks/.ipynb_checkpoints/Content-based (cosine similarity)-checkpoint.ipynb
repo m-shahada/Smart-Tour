{
 "cells": [
  {
   "cell_type": "markdown",
   "metadata": {},
   "source": [
    "![BTS](https://4d17d13o8yuu3wluzr4c2feo-wpengine.netdna-ssl.com/wp-content/uploads/2019/02/btslogo.png)\n",
    "\n",
    "### Master in Big Data Solutions Final Project - Smart Tour\n",
    "\n",
    "#### Pablo Dellacassa, Santiago Borgnino & Muhannad Shahada"
   ]
  },
  {
   "cell_type": "code",
   "execution_count": null,
   "metadata": {},
   "outputs": [],
   "source": [
    "#Loading of necessary libraries\n",
    "import pandas as pd\n",
    "import numpy as np\n",
    "from sklearn.feature_extraction.text import TfidfVectorizer\n",
    "from sklearn.metrics.pairwise import cosine_similarity"
   ]
  },
  {
   "cell_type": "code",
   "execution_count": 320,
   "metadata": {},
   "outputs": [],
   "source": [
    "#Loading necessart datasets for model implementation\n",
    "pits_od=pd.read_excel('/Users/santiagoborgnino/Documents/Github/Smart-Tour/Datasets/pits_opendata.xls')\n",
    "google_data=pd.read_csv('google_data.csv')"
   ]
  },
  {
   "cell_type": "markdown",
   "metadata": {},
   "source": [
    "### Data preparation"
   ]
  },
  {
   "cell_type": "code",
   "execution_count": 322,
   "metadata": {},
   "outputs": [],
   "source": [
    "#Dropping unnecessary columns\n",
    "pits_od=pits_od.drop(['originalpost','categories','atencio_eq', 'phonenumber','type','tp','date','author','tags','language','pos', 'num', 'city', 'address', 'code_url', 'related_post', 'attachments', 'vignette', 'moreinfo', 'usergroup', 'post_modified', 'original_modified', 'wt', 'sigla', 'sectionname'], axis=1)\n",
    "\n",
    "#Apply upper case for names\n",
    "pits_od['name'] = pits_od['name'].str.upper()\n",
    "pits_od['title']=pits_od['title'].str.upper()\n",
    "\n",
    "#Remove white space at the beginning and end of the name\n",
    "pits_od['name'] = pits_od['name'].str.lstrip()\n",
    "\n",
    "#Dropping duplicate points of interest\n",
    "pits_od=pits_od.drop_duplicates('id')"
   ]
  },
  {
   "cell_type": "code",
   "execution_count": 324,
   "metadata": {},
   "outputs": [
    {
     "name": "stdout",
     "output_type": "stream",
     "text": [
      "El gran espai natural del parc de Montjuïc és el millor lloc per gaudir de la natura i la cultura alhora, perquè és ple de magnífics jardins i d’instal·lacions culturals\n",
      " \n",
      "Un turó amb històriaAssentat sobre el turó que recorre el barri de Sants i mira cap al mar, Montjuïc ha estat testimoni i escenari de múltiples fets transcendentals en la història de Barcelona. Es va començar a urbanitzar a partir de l’Exposició Universal del 1929. Després dels successos dramàtics de la Guerra Civil, en què el castell va funcionar com a presó, l’indret va canviar i, amb els Jocs Olímpics de 1992, es va renovar completament i va tornar a adquirir un caràcter festiu i alegre per als barcelonins.El nom del turó, de 177 metres d’alçària, ha estat un tema de controvèrsia, ja que Montjuïc en català medieval podria traduir-se com a &#8216;Mont dels jueus&#8216;, la qual cosa està avalada per l’existència d’un cementiri jueu a la muntanya.Natura, cultura i esportEn aquest gran pulmó verd de la ciutat s’hi troben nombrosos jardins on es pot passejar, descansar, jugar, fer esport o, simplement, gaudir de la natura. El Jardí Botànic desplega la seva col·lecció de plantes mediterrànies en un terreny marcat per forts desnivells que es converteix en un gran mirador. També es pot gaudir de vegetació i bones vistes als jardins de Mossèn Costa i Llobera, especialitzat en cactus, i als jardins de Mossèn Cinto Verdaguer, amb una col·lecció de flors de nombroses espècies que el fan estar florit tot l’any. Els jardins de Laribal, amb cascades sorprenents, amaguen la popular font del Gat, on els barcelonins antigament anaven a berenar el diumenge. I els jardins Joan Brossa, uns dels més nous, s’obren com un refrescant parc forestal esquitxat de coixins musicals, jocs i tirolines que són les delícies dels nens.Farcit d’instal·lacions culturals i esportives, com ara la Fundació Miró, el Caixa Forum, les piscines Bernat Picornell o l’Estadi Olímpic Lluís Companys, Montjuïc ofereix cultura, natura i història tot en un. La Font Màgica o el Poble Espanyol són també punts de gran atractiu i interès per visitar dins un espai natural enorme i ple de racons secrets per descobrir. \n"
     ]
    }
   ],
   "source": [
    "#Removing noise strings from exceprt\n",
    "pits_od['excerpt'] = pits_od['excerpt'].str.replace('<p>', '')\n",
    "pits_od['excerpt'] = pits_od['excerpt'].str.replace('</p', '')\n",
    "pits_od['excerpt'] = pits_od['excerpt'].str.replace('.>', '')\n",
    "\n",
    "\n",
    "#Removing noise strings from content\n",
    "pits_od['content']=pits_od['content'].str.replace('<h3>', '' )\n",
    "pits_od['content']=pits_od['content'].str.replace('</h3>', '' )\n",
    "pits_od['content']=pits_od['content'].str.replace('\\r\\n', '' )\n",
    "pits_od['content']=pits_od['content'].str.replace('<p>', '' )\n",
    "pits_od['content']=pits_od['content'].str.replace('<strong>', '' )\n",
    "pits_od['content']=pits_od['content'].str.replace('</strong>', '' )\n",
    "pits_od['content']=pits_od['content'].str.replace('</p>', '' )\n",
    "pits_od['content']=pits_od['content'].str.replace('<!-- .photo-galleria -->', '' )\n",
    "\n",
    "#Replacing Nan for empty space\n",
    "pits_od['excerpt'] = pits_od['excerpt'].fillna('')"
   ]
  },
  {
   "cell_type": "code",
   "execution_count": 327,
   "metadata": {},
   "outputs": [],
   "source": [
    "#Reseting indexes of datasets to join them\n",
    "google_data.set_index('name', inplace=True)\n",
    "pits_od.set_index('title', inplace=True)"
   ]
  },
  {
   "cell_type": "code",
   "execution_count": 328,
   "metadata": {},
   "outputs": [],
   "source": [
    "#Joining google data with open data barcelona data set\n",
    "pits_od=pits_od.join(google_data, how='inner')\n",
    "pits_od.reset_index(inplace=True)"
   ]
  },
  {
   "cell_type": "code",
   "execution_count": 330,
   "metadata": {},
   "outputs": [
    {
     "data": {
      "text/plain": [
       "(52, 40)"
      ]
     },
     "execution_count": 330,
     "metadata": {},
     "output_type": "execute_result"
    }
   ],
   "source": [
    "#Size of resulting join\n",
    "pits_od.shape"
   ]
  },
  {
   "cell_type": "code",
   "execution_count": 331,
   "metadata": {},
   "outputs": [
    {
     "data": {
      "text/plain": [
       "Index(['index', 'district', 'gmapx', 'gmapy', 'id', 'name', 'excerpt',\n",
       "       'content', 'categoryName', 'temporarilyClosed', 'permanentlyClosed',\n",
       "       'totalScore', 'location', 'popularTimesHistogram', 'reviewsCount',\n",
       "       'latitud', 'longitud', 'tipo', '1994', '2000', '2011', '2014', '2015',\n",
       "       '2016', '2017', '2018', '2019', 'Average', '1', '2', '3', '4', '5', '6',\n",
       "       '7', '8', '9', '10', '11', '12'],\n",
       "      dtype='object')"
      ]
     },
     "execution_count": 331,
     "metadata": {},
     "output_type": "execute_result"
    }
   ],
   "source": [
    "pits_od.columns"
   ]
  },
  {
   "cell_type": "code",
   "execution_count": 332,
   "metadata": {},
   "outputs": [],
   "source": [
    "#Filtering those poins of interest that contain excerpt for feature extraction\n",
    "pits_od=pits_od[~pits_od['excerpt'].isna()]"
   ]
  },
  {
   "cell_type": "markdown",
   "metadata": {},
   "source": [
    "### Data Modelling"
   ]
  },
  {
   "cell_type": "code",
   "execution_count": 334,
   "metadata": {},
   "outputs": [],
   "source": [
    "#Creating a TfidVectorizer object for feature extraction\n",
    "tfidf = TfidfVectorizer(max_df=0.95)\n",
    "\n",
    "#Fitting TfidVectorizer object to each POI's excerpt\n",
    "tfidf_matrix = tfidf.fit_transform(pits_od['excerpt'])"
   ]
  },
  {
   "cell_type": "code",
   "execution_count": 337,
   "metadata": {},
   "outputs": [],
   "source": [
    "#Creating cosine similarity matrix for POI's recommendation\n",
    "cosine_sim = cosine_similarity(tfidf_matrix, tfidf_matrix)"
   ]
  },
  {
   "cell_type": "code",
   "execution_count": 342,
   "metadata": {},
   "outputs": [],
   "source": [
    "#Creating content_based_recommender function\n",
    "def content_based_recommender(title, cosine_sim, dataframe):\n",
    "\n",
    "    dataframe = dataframe[~dataframe[\"index\"].isna()]\n",
    "    indices = pd.Series(dataframe.index, index=dataframe['index'])\n",
    "    indices = indices[~indices.index.duplicated(keep='last')]\n",
    "\n",
    "    movie_index = indices[title]\n",
    "\n",
    "    similarity_scores = pd.DataFrame(cosine_sim[movie_index], columns=[\"score\"])\n",
    "\n",
    "    movie_indices = similarity_scores.sort_values(\"score\", ascending=False)[1:11].index\n",
    "    return dataframe['index'].iloc[movie_indices]"
   ]
  },
  {
   "cell_type": "code",
   "execution_count": 349,
   "metadata": {},
   "outputs": [
    {
     "data": {
      "text/plain": [
       "51                VIRREINA PALACE\n",
       "5                       CASA MILÀ\n",
       "33    MUSEU DEL MODERNISME CATALÀ\n",
       "40      PARC DEL LABERINT D'HORTA\n",
       "15       FUNDACIÓ FOTO COLECTANIA\n",
       "18             GAUDÍ HOUSE MUSEUM\n",
       "50            TORRE DE COLLSEROLA\n",
       "26                MONTJUÏC CASTLE\n",
       "24     MIES VAN DER ROHE PAVILION\n",
       "41                     PARK GÜELL\n",
       "Name: index, dtype: object"
      ]
     },
     "execution_count": 349,
     "metadata": {},
     "output_type": "execute_result"
    }
   ],
   "source": [
    "#Testing contenst based recommender function\n",
    "content_based_recommender(\"LA SAGRADA FAMILIA\", cosine_sim, pits_od)"
   ]
  },
  {
   "cell_type": "code",
   "execution_count": null,
   "metadata": {},
   "outputs": [],
   "source": []
  }
 ],
 "metadata": {
  "kernelspec": {
   "display_name": "Python 3",
   "language": "python",
   "name": "python3"
  },
  "language_info": {
   "codemirror_mode": {
    "name": "ipython",
    "version": 3
   },
   "file_extension": ".py",
   "mimetype": "text/x-python",
   "name": "python",
   "nbconvert_exporter": "python",
   "pygments_lexer": "ipython3",
   "version": "3.8.5"
  }
 },
 "nbformat": 4,
 "nbformat_minor": 4
}
