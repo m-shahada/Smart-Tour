{
 "cells": [
  {
   "cell_type": "markdown",
   "metadata": {},
   "source": [
    "![BTS](https://4d17d13o8yuu3wluzr4c2feo-wpengine.netdna-ssl.com/wp-content/uploads/2019/02/btslogo.png)\n",
    "\n",
    "### Master in Big Data Solutions Final Project - Smart Tour\n",
    "\n",
    "#### Pablo Dellacassa, Santiago Borgnino & Muhannad Shahada\n",
    "\n",
    "\n",
    "Data preparation"
   ]
  },
  {
   "cell_type": "markdown",
   "metadata": {},
   "source": [
    "### Data Sources"
   ]
  },
  {
   "cell_type": "markdown",
   "metadata": {},
   "source": [
    "\n",
    "\n",
    "1. Number of tourists in Catalunya per month from 2015 to 2019:\n",
    "https://datos.gob.es/es/catalogo/ea0010587-numero-de-turistas-segun-comunidad-autonoma-de-destino-principal-mensual-comunidades-autonomas-movimientos-turisticos-en-fronteras-identificador-api-108231\n",
    "\n",
    "2. Barcelona list of tourist attractions and number of annual visitors from 1994 to 2019: Observatorio de Turismo de Barcelona\n",
    "\n",
    "3. Barcelona list of gastronomic equipment: https://opendata-ajuntament.barcelona.cat/data/es/dataset/equipament-restaurants\n",
    "\n",
    "4. Barcelona tourist attractions geolocation: https://opendata-ajuntament.barcelona.cat/data/es/dataset/punts-informacio-turistica\n",
    "\n",
    "5. Lonely Planet list of Barcelona tourist attractions with features: Web Scraping from Web Site\n",
    "https://www.lonelyplanet.com/spain/barcelona/attractions?page=1\n",
    "\n",
    "6. TripAdvisor Restaurants Info for 31 Euro-Cities: https://www.kaggle.com/damienbeneschi/krakow-ta-restaurans-data-raw\n",
    "\n",
    "7. Barcelona neighbourhoods and districs geodata: https://github.com/martgnz/bcn-geodata\n",
    "\n"
   ]
  },
  {
   "cell_type": "markdown",
   "metadata": {},
   "source": [
    "### Package import"
   ]
  },
  {
   "cell_type": "code",
   "execution_count": 2,
   "metadata": {},
   "outputs": [],
   "source": [
    "import pandas as pd\n",
    "from re import search\n",
    "from math import sqrt, radians\n",
    "from sklearn.neighbors import DistanceMetric\n",
    "import numpy as np\n",
    "import matplotlib.pyplot as plt\n",
    "%matplotlib inline"
   ]
  },
  {
   "cell_type": "markdown",
   "metadata": {},
   "source": [
    "#### Loading datasets"
   ]
  },
  {
   "cell_type": "code",
   "execution_count": 2,
   "metadata": {},
   "outputs": [],
   "source": [
    "#od is OpenData, pits is Points of Interest\n",
    "pits_od=pd.read_excel('pits_opendata.xls')\n",
    "\n",
    "#ob is Observsatorium de Turismo de Barcelona, pits is Points of Interest\n",
    "pits_ob=pd.read_excel('barcelona-cultura-y-ocio-1994-2019.xlsx')\n",
    "\n",
    "#TA is TripAdvisor\n",
    "TA_data=pd.read_csv('TA_restaurants_curated.csv')\n",
    "\n",
    "#lp is Lonely Planet\n",
    "pits_lp=pd.read_excel('pits_lp.xlsx', sheet_name='Curado')\n",
    "\n",
    "restaurants_op=pd.read_csv('restaurants_opendata.csv')\n",
    "\n",
    "#cat is Catalunya\n",
    "cat_visitors=pd.read_excel('catalunya_visitors2015-2019.xlsx')\n",
    "\n",
    "#POI_barcleona\n",
    "poi_bcn=pd.read_excel('POI_barcelona.xlsx')"
   ]
  },
  {
   "cell_type": "markdown",
   "metadata": {},
   "source": [
    "#### Formatting, dropping columns, identifying missing values"
   ]
  },
  {
   "cell_type": "markdown",
   "metadata": {},
   "source": [
    "##### Catalunya visitors dataset"
   ]
  },
  {
   "cell_type": "code",
   "execution_count": 3,
   "metadata": {},
   "outputs": [
    {
     "data": {
      "text/html": [
       "<div>\n",
       "<style scoped>\n",
       "    .dataframe tbody tr th:only-of-type {\n",
       "        vertical-align: middle;\n",
       "    }\n",
       "\n",
       "    .dataframe tbody tr th {\n",
       "        vertical-align: top;\n",
       "    }\n",
       "\n",
       "    .dataframe thead th {\n",
       "        text-align: right;\n",
       "    }\n",
       "</style>\n",
       "<table border=\"1\" class=\"dataframe\">\n",
       "  <thead>\n",
       "    <tr style=\"text-align: right;\">\n",
       "      <th></th>\n",
       "      <th>Año</th>\n",
       "      <th>Mes</th>\n",
       "      <th>Mes2</th>\n",
       "      <th>Dato base</th>\n",
       "      <th>Tasa de variación anual</th>\n",
       "      <th>Acumulado en lo que va de año</th>\n",
       "      <th>Tasa de variación acumulada</th>\n",
       "      <th>Total por año</th>\n",
       "      <th>Porcentaje</th>\n",
       "    </tr>\n",
       "  </thead>\n",
       "  <tbody>\n",
       "    <tr>\n",
       "      <th>0</th>\n",
       "      <td>2019</td>\n",
       "      <td>12</td>\n",
       "      <td>December</td>\n",
       "      <td>993169</td>\n",
       "      <td>2.46</td>\n",
       "      <td>19375152</td>\n",
       "      <td>0.93</td>\n",
       "      <td>19375153</td>\n",
       "      <td>0.051260</td>\n",
       "    </tr>\n",
       "    <tr>\n",
       "      <th>1</th>\n",
       "      <td>2019</td>\n",
       "      <td>11</td>\n",
       "      <td>November</td>\n",
       "      <td>1047153</td>\n",
       "      <td>1.21</td>\n",
       "      <td>18381984</td>\n",
       "      <td>0.85</td>\n",
       "      <td>19375153</td>\n",
       "      <td>0.054046</td>\n",
       "    </tr>\n",
       "  </tbody>\n",
       "</table>\n",
       "</div>"
      ],
      "text/plain": [
       "    Año  Mes      Mes2          Dato base          Tasa de variación anual  \\\n",
       "0  2019   12  December             993169                             2.46   \n",
       "1  2019   11  November            1047153                             1.21   \n",
       "\n",
       "          Acumulado en lo que va de año         Tasa de variación acumulada  \\\n",
       "0                              19375152                                0.93   \n",
       "1                              18381984                                0.85   \n",
       "\n",
       "   Total por año  Porcentaje  \n",
       "0       19375153    0.051260  \n",
       "1       19375153    0.054046  "
      ]
     },
     "execution_count": 3,
     "metadata": {},
     "output_type": "execute_result"
    }
   ],
   "source": [
    "cat_visitors.head(2)"
   ]
  },
  {
   "cell_type": "code",
   "execution_count": 4,
   "metadata": {},
   "outputs": [
    {
     "data": {
      "text/plain": [
       "(51, 9)"
      ]
     },
     "execution_count": 4,
     "metadata": {},
     "output_type": "execute_result"
    }
   ],
   "source": [
    "cat_visitors.shape"
   ]
  },
  {
   "cell_type": "code",
   "execution_count": 5,
   "metadata": {},
   "outputs": [
    {
     "data": {
      "text/plain": [
       "Año                                        int64\n",
       "Mes                                        int64\n",
       "Mes2                                      object\n",
       "        Dato base                          int64\n",
       "        Tasa de variación anual          float64\n",
       "        Acumulado en lo que va de año     object\n",
       "        Tasa de variación acumulada       object\n",
       "Total por año                              int64\n",
       "Porcentaje                               float64\n",
       "dtype: object"
      ]
     },
     "execution_count": 5,
     "metadata": {},
     "output_type": "execute_result"
    }
   ],
   "source": [
    "cat_visitors.dtypes"
   ]
  },
  {
   "cell_type": "code",
   "execution_count": 6,
   "metadata": {},
   "outputs": [
    {
     "data": {
      "text/plain": [
       "Index(['Año', 'Mes', 'Mes2', '        Dato base',\n",
       "       '        Tasa de variación anual',\n",
       "       '        Acumulado en lo que va de año',\n",
       "       '        Tasa de variación acumulada', 'Total por año', 'Porcentaje'],\n",
       "      dtype='object')"
      ]
     },
     "execution_count": 6,
     "metadata": {},
     "output_type": "execute_result"
    }
   ],
   "source": [
    "cat_visitors.columns"
   ]
  },
  {
   "cell_type": "code",
   "execution_count": 7,
   "metadata": {},
   "outputs": [],
   "source": [
    "#Removing space from benining and end of columns names\n",
    "cat_visitors.columns = cat_visitors.columns.str.lstrip()"
   ]
  },
  {
   "cell_type": "code",
   "execution_count": 8,
   "metadata": {},
   "outputs": [
    {
     "data": {
      "text/plain": [
       "Index(['Año', 'Mes', 'Mes2', 'Dato base', 'Tasa de variación anual',\n",
       "       'Acumulado en lo que va de año', 'Tasa de variación acumulada',\n",
       "       'Total por año', 'Porcentaje'],\n",
       "      dtype='object')"
      ]
     },
     "execution_count": 8,
     "metadata": {},
     "output_type": "execute_result"
    }
   ],
   "source": [
    "cat_visitors.columns"
   ]
  },
  {
   "cell_type": "code",
   "execution_count": 9,
   "metadata": {},
   "outputs": [],
   "source": [
    "#Dropping unnecessary columns\n",
    "cat_visitors=cat_visitors.drop(['Mes2', 'Tasa de variación anual', 'Acumulado en lo que va de año', 'Tasa de variación acumulada'], axis=1)"
   ]
  },
  {
   "cell_type": "code",
   "execution_count": 10,
   "metadata": {},
   "outputs": [
    {
     "data": {
      "text/html": [
       "<div>\n",
       "<style scoped>\n",
       "    .dataframe tbody tr th:only-of-type {\n",
       "        vertical-align: middle;\n",
       "    }\n",
       "\n",
       "    .dataframe tbody tr th {\n",
       "        vertical-align: top;\n",
       "    }\n",
       "\n",
       "    .dataframe thead th {\n",
       "        text-align: right;\n",
       "    }\n",
       "</style>\n",
       "<table border=\"1\" class=\"dataframe\">\n",
       "  <thead>\n",
       "    <tr style=\"text-align: right;\">\n",
       "      <th></th>\n",
       "      <th>Año</th>\n",
       "      <th>Mes</th>\n",
       "      <th>Dato base</th>\n",
       "      <th>Total por año</th>\n",
       "      <th>Porcentaje</th>\n",
       "    </tr>\n",
       "  </thead>\n",
       "  <tbody>\n",
       "    <tr>\n",
       "      <th>0</th>\n",
       "      <td>2019</td>\n",
       "      <td>12</td>\n",
       "      <td>993169</td>\n",
       "      <td>19375153</td>\n",
       "      <td>0.051260</td>\n",
       "    </tr>\n",
       "    <tr>\n",
       "      <th>1</th>\n",
       "      <td>2019</td>\n",
       "      <td>11</td>\n",
       "      <td>1047153</td>\n",
       "      <td>19375153</td>\n",
       "      <td>0.054046</td>\n",
       "    </tr>\n",
       "    <tr>\n",
       "      <th>2</th>\n",
       "      <td>2019</td>\n",
       "      <td>10</td>\n",
       "      <td>1676430</td>\n",
       "      <td>19375153</td>\n",
       "      <td>0.086525</td>\n",
       "    </tr>\n",
       "    <tr>\n",
       "      <th>3</th>\n",
       "      <td>2019</td>\n",
       "      <td>9</td>\n",
       "      <td>2011704</td>\n",
       "      <td>19375153</td>\n",
       "      <td>0.103829</td>\n",
       "    </tr>\n",
       "    <tr>\n",
       "      <th>4</th>\n",
       "      <td>2019</td>\n",
       "      <td>8</td>\n",
       "      <td>2363331</td>\n",
       "      <td>19375153</td>\n",
       "      <td>0.121977</td>\n",
       "    </tr>\n",
       "  </tbody>\n",
       "</table>\n",
       "</div>"
      ],
      "text/plain": [
       "    Año  Mes  Dato base  Total por año  Porcentaje\n",
       "0  2019   12     993169       19375153    0.051260\n",
       "1  2019   11    1047153       19375153    0.054046\n",
       "2  2019   10    1676430       19375153    0.086525\n",
       "3  2019    9    2011704       19375153    0.103829\n",
       "4  2019    8    2363331       19375153    0.121977"
      ]
     },
     "execution_count": 10,
     "metadata": {},
     "output_type": "execute_result"
    }
   ],
   "source": [
    "cat_visitors.head()"
   ]
  },
  {
   "cell_type": "markdown",
   "metadata": {},
   "source": [
    "##### Points of interest Observatorium of Tourism in Barcelona"
   ]
  },
  {
   "cell_type": "code",
   "execution_count": 11,
   "metadata": {},
   "outputs": [
    {
     "data": {
      "text/html": [
       "<div>\n",
       "<style scoped>\n",
       "    .dataframe tbody tr th:only-of-type {\n",
       "        vertical-align: middle;\n",
       "    }\n",
       "\n",
       "    .dataframe tbody tr th {\n",
       "        vertical-align: top;\n",
       "    }\n",
       "\n",
       "    .dataframe thead th {\n",
       "        text-align: right;\n",
       "    }\n",
       "</style>\n",
       "<table border=\"1\" class=\"dataframe\">\n",
       "  <thead>\n",
       "    <tr style=\"text-align: right;\">\n",
       "      <th></th>\n",
       "      <th>numero</th>\n",
       "      <th>Visitantes de museos y colecciones (MC)</th>\n",
       "      <th>Type</th>\n",
       "      <th>1994</th>\n",
       "      <th>2000</th>\n",
       "      <th>2011</th>\n",
       "      <th>2014</th>\n",
       "      <th>2015</th>\n",
       "      <th>2016</th>\n",
       "      <th>2017</th>\n",
       "      <th>2018</th>\n",
       "      <th>2019</th>\n",
       "    </tr>\n",
       "  </thead>\n",
       "  <tbody>\n",
       "    <tr>\n",
       "      <th>0</th>\n",
       "      <td>1</td>\n",
       "      <td>Museu FC Barcelona</td>\n",
       "      <td>Museums and Collections</td>\n",
       "      <td>538077</td>\n",
       "      <td>1156090</td>\n",
       "      <td>0</td>\n",
       "      <td>1530484</td>\n",
       "      <td>1785903</td>\n",
       "      <td>1947014</td>\n",
       "      <td>1848198</td>\n",
       "      <td>1730335</td>\n",
       "      <td>1661156</td>\n",
       "    </tr>\n",
       "    <tr>\n",
       "      <th>1</th>\n",
       "      <td>2</td>\n",
       "      <td>L'Aquàrium de Barcelona</td>\n",
       "      <td>Museums and Collections</td>\n",
       "      <td>0</td>\n",
       "      <td>1563493</td>\n",
       "      <td>0</td>\n",
       "      <td>1590420</td>\n",
       "      <td>1549480</td>\n",
       "      <td>1587828</td>\n",
       "      <td>1626193</td>\n",
       "      <td>1631108</td>\n",
       "      <td>1609373</td>\n",
       "    </tr>\n",
       "  </tbody>\n",
       "</table>\n",
       "</div>"
      ],
      "text/plain": [
       "   numero Visitantes de museos y colecciones (MC)                     Type  \\\n",
       "0       1                     Museu FC Barcelona   Museums and Collections   \n",
       "1       2                 L'Aquàrium de Barcelona  Museums and Collections   \n",
       "\n",
       "     1994     2000  2011     2014     2015     2016     2017     2018     2019  \n",
       "0  538077  1156090     0  1530484  1785903  1947014  1848198  1730335  1661156  \n",
       "1       0  1563493     0  1590420  1549480  1587828  1626193  1631108  1609373  "
      ]
     },
     "execution_count": 11,
     "metadata": {},
     "output_type": "execute_result"
    }
   ],
   "source": [
    "pits_ob.head(2)"
   ]
  },
  {
   "cell_type": "code",
   "execution_count": 12,
   "metadata": {},
   "outputs": [
    {
     "data": {
      "text/plain": [
       "numero                                      int64\n",
       "Visitantes de museos y colecciones (MC)    object\n",
       "Type                                       object\n",
       "1994                                        int64\n",
       "2000                                        int64\n",
       "2011                                        int64\n",
       "2014                                        int64\n",
       "2015                                       object\n",
       "2016                                       object\n",
       "2017                                        int64\n",
       "2018                                        int64\n",
       "2019                                        int64\n",
       "dtype: object"
      ]
     },
     "execution_count": 12,
     "metadata": {},
     "output_type": "execute_result"
    }
   ],
   "source": [
    "pits_ob.dtypes"
   ]
  },
  {
   "cell_type": "code",
   "execution_count": 13,
   "metadata": {},
   "outputs": [],
   "source": [
    "#Dropping unnecessary columns with index number\n",
    "pits_ob=pits_ob.drop('numero', axis=1)"
   ]
  },
  {
   "cell_type": "code",
   "execution_count": 14,
   "metadata": {},
   "outputs": [],
   "source": [
    "#Replace string values with 0 in columns 2015 and 2016\n",
    "pits_ob[2015].replace(['Cerrado', 'nd'], 0, inplace=True)\n",
    "pits_ob[2016].replace(['Cerrado', 'nd'], 0, inplace=True)"
   ]
  },
  {
   "cell_type": "code",
   "execution_count": 15,
   "metadata": {},
   "outputs": [],
   "source": [
    "#Changing columns 2015 and 2016 to int type\n",
    "pits_ob[2015]=pits_ob[2015].astype(int)\n",
    "pits_ob[2016]=pits_ob[2016].astype(int)"
   ]
  },
  {
   "cell_type": "code",
   "execution_count": 16,
   "metadata": {},
   "outputs": [],
   "source": [
    "#Renaming columns\n",
    "pits_ob.rename(columns={'Visitantes de museos y colecciones (MC)':'name', 'Type':'type'}, inplace=True)"
   ]
  },
  {
   "cell_type": "code",
   "execution_count": 17,
   "metadata": {},
   "outputs": [],
   "source": [
    "#Apply upper case for names\n",
    "pits_ob['name'] = pits_ob['name'].str.upper()\n",
    "pits_ob['type']= pits_ob['type'].str.upper()\n",
    "\n",
    "#Remove white space at the beginning and end of the name\n",
    "pits_ob['name'] = pits_ob['name'].str.lstrip()\n",
    "pits_ob['type']= pits_ob['type'].str.lstrip()"
   ]
  },
  {
   "cell_type": "code",
   "execution_count": 18,
   "metadata": {},
   "outputs": [
    {
     "data": {
      "text/plain": [
       "MUSEU TORRE BALLDOVINA - SANTA COLOMA DE GRAMANET                     1\n",
       "MUSEU D’IDEES I INVENTS DE BARCELONA. MIBA (4)                        1\n",
       "LA PEDRERA                                                            1\n",
       "IMAX(1)                                                               1\n",
       "CENTRE D'INTERPRETACIÓ DEL CAVA-CIC FASSINA (SANT SADURNÍ D'ANOIA)    1\n",
       "                                                                     ..\n",
       "PARC NATURAL DE LA SERRA DE COLLSEROLA                                1\n",
       "PALAU GÜELL                                                           1\n",
       "MUSEU DE LA MOTO                                                      1\n",
       "PARC D'ATRACCIONS TIBIDABO                                            1\n",
       "MUSEU DE LA COLÒNIA VIDAL (PUIG-REIG)                                 1\n",
       "Name: name, Length: 134, dtype: int64"
      ]
     },
     "execution_count": 18,
     "metadata": {},
     "output_type": "execute_result"
    }
   ],
   "source": [
    "#Check for duplicate names\n",
    "pits_ob.name.value_counts()"
   ]
  },
  {
   "cell_type": "code",
   "execution_count": 19,
   "metadata": {},
   "outputs": [
    {
     "data": {
      "text/plain": [
       "name    134\n",
       "type    134\n",
       "1994    134\n",
       "2000    134\n",
       "2011    134\n",
       "2014    134\n",
       "2015    134\n",
       "2016    134\n",
       "2017    134\n",
       "2018    134\n",
       "2019    134\n",
       "dtype: int64"
      ]
     },
     "execution_count": 19,
     "metadata": {},
     "output_type": "execute_result"
    }
   ],
   "source": [
    "#Checking every column has a value\n",
    "pits_ob.count()"
   ]
  },
  {
   "cell_type": "markdown",
   "metadata": {},
   "source": [
    "##### Points of interest Open Data Barcelona"
   ]
  },
  {
   "cell_type": "code",
   "execution_count": 20,
   "metadata": {},
   "outputs": [
    {
     "data": {
      "text/plain": [
       "pos                    int64\n",
       "num                    int64\n",
       "address               object\n",
       "city                  object\n",
       "code_url              object\n",
       "district              object\n",
       "atencio_eq            object\n",
       "gmapx                float64\n",
       "gmapy                float64\n",
       "id                     int64\n",
       "name                  object\n",
       "phonenumber           object\n",
       "type                  object\n",
       "tp                    object\n",
       "title                 object\n",
       "excerpt               object\n",
       "content               object\n",
       "date                  object\n",
       "author                object\n",
       "categories           float64\n",
       "tags                 float64\n",
       "language              object\n",
       "originalpost           int64\n",
       "related_post         float64\n",
       "attachments          float64\n",
       "vignette             float64\n",
       "moreinfo             float64\n",
       "usergroup             object\n",
       "post_modified         object\n",
       "original_modified     object\n",
       "wt                    object\n",
       "sigla                 object\n",
       "sectionname           object\n",
       "dtype: object"
      ]
     },
     "execution_count": 20,
     "metadata": {},
     "output_type": "execute_result"
    }
   ],
   "source": [
    "pits_od.dtypes"
   ]
  },
  {
   "cell_type": "code",
   "execution_count": 21,
   "metadata": {},
   "outputs": [
    {
     "data": {
      "text/plain": [
       "(851, 33)"
      ]
     },
     "execution_count": 21,
     "metadata": {},
     "output_type": "execute_result"
    }
   ],
   "source": [
    "pits_od.shape"
   ]
  },
  {
   "cell_type": "code",
   "execution_count": 22,
   "metadata": {},
   "outputs": [],
   "source": [
    "#Drop unnecessary columns\n",
    "pits_od=pits_od.drop(['originalpost','categories','atencio_eq', 'phonenumber','type','tp','date','author','tags','language','pos', 'num', 'city', 'address', 'code_url', 'related_post', 'attachments', 'vignette', 'moreinfo', 'usergroup', 'post_modified', 'original_modified', 'wt', 'sigla', 'sectionname'], axis=1)"
   ]
  },
  {
   "cell_type": "code",
   "execution_count": 23,
   "metadata": {},
   "outputs": [
    {
     "data": {
      "text/html": [
       "<div>\n",
       "<style scoped>\n",
       "    .dataframe tbody tr th:only-of-type {\n",
       "        vertical-align: middle;\n",
       "    }\n",
       "\n",
       "    .dataframe tbody tr th {\n",
       "        vertical-align: top;\n",
       "    }\n",
       "\n",
       "    .dataframe thead th {\n",
       "        text-align: right;\n",
       "    }\n",
       "</style>\n",
       "<table border=\"1\" class=\"dataframe\">\n",
       "  <thead>\n",
       "    <tr style=\"text-align: right;\">\n",
       "      <th></th>\n",
       "      <th>district</th>\n",
       "      <th>gmapx</th>\n",
       "      <th>gmapy</th>\n",
       "      <th>id</th>\n",
       "      <th>name</th>\n",
       "      <th>title</th>\n",
       "      <th>excerpt</th>\n",
       "      <th>content</th>\n",
       "    </tr>\n",
       "  </thead>\n",
       "  <tbody>\n",
       "    <tr>\n",
       "      <th>0</th>\n",
       "      <td>Sants-Montjuïc</td>\n",
       "      <td>41.361374</td>\n",
       "      <td>2.159711</td>\n",
       "      <td>190829</td>\n",
       "      <td>Parc de Montjuïc</td>\n",
       "      <td>El parc de Montjuïc</td>\n",
       "      <td>&lt;p&gt;El gran espai natural del parc de Montjuïc ...</td>\n",
       "      <td>&lt;h3&gt;Un turó amb història&lt;/h3&gt;\\r\\n&lt;p&gt;Assentat s...</td>\n",
       "    </tr>\n",
       "    <tr>\n",
       "      <th>1</th>\n",
       "      <td>Sants-Montjuïc</td>\n",
       "      <td>41.361374</td>\n",
       "      <td>2.159711</td>\n",
       "      <td>190829</td>\n",
       "      <td>Parc de Montjuïc</td>\n",
       "      <td>El parc de Montjuïc</td>\n",
       "      <td>&lt;p&gt;El gran espai natural del parc de Montjuïc ...</td>\n",
       "      <td>&lt;h3&gt;Un turó amb història&lt;/h3&gt;\\r\\n&lt;p&gt;Assentat s...</td>\n",
       "    </tr>\n",
       "  </tbody>\n",
       "</table>\n",
       "</div>"
      ],
      "text/plain": [
       "         district      gmapx     gmapy      id              name  \\\n",
       "0  Sants-Montjuïc  41.361374  2.159711  190829  Parc de Montjuïc   \n",
       "1  Sants-Montjuïc  41.361374  2.159711  190829  Parc de Montjuïc   \n",
       "\n",
       "                 title                                            excerpt  \\\n",
       "0  El parc de Montjuïc  <p>El gran espai natural del parc de Montjuïc ...   \n",
       "1  El parc de Montjuïc  <p>El gran espai natural del parc de Montjuïc ...   \n",
       "\n",
       "                                             content  \n",
       "0  <h3>Un turó amb història</h3>\\r\\n<p>Assentat s...  \n",
       "1  <h3>Un turó amb història</h3>\\r\\n<p>Assentat s...  "
      ]
     },
     "execution_count": 23,
     "metadata": {},
     "output_type": "execute_result"
    }
   ],
   "source": [
    "pits_od.head(2)"
   ]
  },
  {
   "cell_type": "code",
   "execution_count": 24,
   "metadata": {},
   "outputs": [],
   "source": [
    "#Apply upper case for names\n",
    "pits_od['name'] = pits_od['name'].str.upper()\n",
    "\n",
    "#Remove white space at the beginning and end of the name\n",
    "pits_od['name'] = pits_od['name'].str.lstrip()\n"
   ]
  },
  {
   "cell_type": "code",
   "execution_count": 25,
   "metadata": {},
   "outputs": [
    {
     "data": {
      "text/plain": [
       "190829    2\n",
       "286714    1\n",
       "285228    1\n",
       "191031    1\n",
       "190989    1\n",
       "         ..\n",
       "541754    1\n",
       "284089    1\n",
       "541751    1\n",
       "285749    1\n",
       "541205    1\n",
       "Name: id, Length: 850, dtype: int64"
      ]
     },
     "execution_count": 25,
     "metadata": {},
     "output_type": "execute_result"
    }
   ],
   "source": [
    "#Check for duplicates\n",
    "pits_od.id.value_counts()"
   ]
  },
  {
   "cell_type": "code",
   "execution_count": 26,
   "metadata": {},
   "outputs": [
    {
     "data": {
      "text/html": [
       "<div>\n",
       "<style scoped>\n",
       "    .dataframe tbody tr th:only-of-type {\n",
       "        vertical-align: middle;\n",
       "    }\n",
       "\n",
       "    .dataframe tbody tr th {\n",
       "        vertical-align: top;\n",
       "    }\n",
       "\n",
       "    .dataframe thead th {\n",
       "        text-align: right;\n",
       "    }\n",
       "</style>\n",
       "<table border=\"1\" class=\"dataframe\">\n",
       "  <thead>\n",
       "    <tr style=\"text-align: right;\">\n",
       "      <th></th>\n",
       "      <th>district</th>\n",
       "      <th>gmapx</th>\n",
       "      <th>gmapy</th>\n",
       "      <th>id</th>\n",
       "      <th>name</th>\n",
       "      <th>title</th>\n",
       "      <th>excerpt</th>\n",
       "      <th>content</th>\n",
       "    </tr>\n",
       "  </thead>\n",
       "  <tbody>\n",
       "    <tr>\n",
       "      <th>0</th>\n",
       "      <td>Sants-Montjuïc</td>\n",
       "      <td>41.361374</td>\n",
       "      <td>2.159711</td>\n",
       "      <td>190829</td>\n",
       "      <td>PARC DE MONTJUÏC</td>\n",
       "      <td>El parc de Montjuïc</td>\n",
       "      <td>&lt;p&gt;El gran espai natural del parc de Montjuïc ...</td>\n",
       "      <td>&lt;h3&gt;Un turó amb història&lt;/h3&gt;\\r\\n&lt;p&gt;Assentat s...</td>\n",
       "    </tr>\n",
       "    <tr>\n",
       "      <th>2</th>\n",
       "      <td>Sant Martí</td>\n",
       "      <td>41.411034</td>\n",
       "      <td>2.221698</td>\n",
       "      <td>190952</td>\n",
       "      <td>EL PARC DEL FÒRUM</td>\n",
       "      <td>El parc del Fòrum</td>\n",
       "      <td>&lt;p&gt;El recinte projectat arran de mar per acoll...</td>\n",
       "      <td>&lt;h3&gt;Un gran esdeveniment&lt;/h3&gt;\\r\\n&lt;p&gt;El parc de...</td>\n",
       "    </tr>\n",
       "  </tbody>\n",
       "</table>\n",
       "</div>"
      ],
      "text/plain": [
       "         district      gmapx     gmapy      id               name  \\\n",
       "0  Sants-Montjuïc  41.361374  2.159711  190829   PARC DE MONTJUÏC   \n",
       "2      Sant Martí  41.411034  2.221698  190952  EL PARC DEL FÒRUM   \n",
       "\n",
       "                 title                                            excerpt  \\\n",
       "0  El parc de Montjuïc  <p>El gran espai natural del parc de Montjuïc ...   \n",
       "2    El parc del Fòrum  <p>El recinte projectat arran de mar per acoll...   \n",
       "\n",
       "                                             content  \n",
       "0  <h3>Un turó amb història</h3>\\r\\n<p>Assentat s...  \n",
       "2  <h3>Un gran esdeveniment</h3>\\r\\n<p>El parc de...  "
      ]
     },
     "execution_count": 26,
     "metadata": {},
     "output_type": "execute_result"
    }
   ],
   "source": [
    "#Drop duplicate values\n",
    "pits_od=pits_od.drop_duplicates('id')\n",
    "pits_od.head(2)"
   ]
  },
  {
   "cell_type": "code",
   "execution_count": 27,
   "metadata": {},
   "outputs": [
    {
     "name": "stdout",
     "output_type": "stream",
     "text": [
      "El gran espai natural del parc de Montjuïc és el millor lloc per gaudir de la natura i la cultura alhora, perquè és ple de magnífics jardins i d’instal·lacions culturals.>\n",
      " \n",
      "Un turó amb històriaAssentat sobre el turó que recorre el barri de Sants i mira cap al mar, Montjuïc ha estat testimoni i escenari de múltiples fets transcendentals en la història de Barcelona. Es va començar a urbanitzar a partir de l’Exposició Universal del 1929. Després dels successos dramàtics de la Guerra Civil, en què el castell va funcionar com a presó, l’indret va canviar i, amb els Jocs Olímpics de 1992, es va renovar completament i va tornar a adquirir un caràcter festiu i alegre per als barcelonins.El nom del turó, de 177 metres d’alçària, ha estat un tema de controvèrsia, ja que Montjuïc en català medieval podria traduir-se com a &#8216;Mont dels jueus&#8216;, la qual cosa està avalada per l’existència d’un cementiri jueu a la muntanya.Natura, cultura i esportEn aquest gran pulmó verd de la ciutat s’hi troben nombrosos jardins on es pot passejar, descansar, jugar, fer esport o, simplement, gaudir de la natura. El Jardí Botànic desplega la seva col·lecció de plantes mediterrànies en un terreny marcat per forts desnivells que es converteix en un gran mirador. També es pot gaudir de vegetació i bones vistes als jardins de Mossèn Costa i Llobera, especialitzat en cactus, i als jardins de Mossèn Cinto Verdaguer, amb una col·lecció de flors de nombroses espècies que el fan estar florit tot l’any. Els jardins de Laribal, amb cascades sorprenents, amaguen la popular font del Gat, on els barcelonins antigament anaven a berenar el diumenge. I els jardins Joan Brossa, uns dels més nous, s’obren com un refrescant parc forestal esquitxat de coixins musicals, jocs i tirolines que són les delícies dels nens.Farcit d’instal·lacions culturals i esportives, com ara la Fundació Miró, el Caixa Forum, les piscines Bernat Picornell o l’Estadi Olímpic Lluís Companys, Montjuïc ofereix cultura, natura i història tot en un. La Font Màgica o el Poble Espanyol són també punts de gran atractiu i interès per visitar dins un espai natural enorme i ple de racons secrets per descobrir. \n"
     ]
    }
   ],
   "source": [
    "#Removing noise strings from exceprt\n",
    "pits_od['excerpt'] = pits_od['excerpt'].str.replace('<p>', '')\n",
    "pits_od['excerpt'] = pits_od['excerpt'].str.replace('</p', '')\n",
    "\n",
    "\n",
    "#Removing noise strings from content\n",
    "pits_od['content']=pits_od['content'].str.replace('<h3>', '' )\n",
    "pits_od['content']=pits_od['content'].str.replace('</h3>', '' )\n",
    "pits_od['content']=pits_od['content'].str.replace('\\r\\n', '' )\n",
    "pits_od['content']=pits_od['content'].str.replace('<p>', '' )\n",
    "pits_od['content']=pits_od['content'].str.replace('<strong>', '' )\n",
    "pits_od['content']=pits_od['content'].str.replace('</strong>', '' )\n",
    "pits_od['content']=pits_od['content'].str.replace('</p>', '' )\n",
    "pits_od['content']=pits_od['content'].str.replace('<!-- .photo-galleria -->', '' )\n",
    "\n",
    "print(pits_od.excerpt[0])\n",
    "print(\" \")\n",
    "print(pits_od.content[0])"
   ]
  },
  {
   "cell_type": "code",
   "execution_count": 28,
   "metadata": {},
   "outputs": [
    {
     "data": {
      "text/plain": [
       "Gràcia                 134\n",
       "Sarrià-Sant Gervasi    119\n",
       "Ciutat Vella           116\n",
       "Sant Andreu             95\n",
       "Sants-Montjuïc          88\n",
       "Eixample                85\n",
       "Les Corts               75\n",
       "Sant Martí              57\n",
       "Horta-Guinardó          52\n",
       "Nou Barris              27\n",
       "Name: district, dtype: int64"
      ]
     },
     "execution_count": 28,
     "metadata": {},
     "output_type": "execute_result"
    }
   ],
   "source": [
    "pits_od.district.value_counts()"
   ]
  },
  {
   "cell_type": "code",
   "execution_count": 29,
   "metadata": {},
   "outputs": [
    {
     "data": {
      "text/plain": [
       "district    848\n",
       "gmapx       850\n",
       "gmapy       850\n",
       "id          850\n",
       "name        850\n",
       "title       850\n",
       "excerpt     850\n",
       "content     850\n",
       "dtype: int64"
      ]
     },
     "execution_count": 29,
     "metadata": {},
     "output_type": "execute_result"
    }
   ],
   "source": [
    "pits_od.count()"
   ]
  },
  {
   "cell_type": "markdown",
   "metadata": {},
   "source": [
    "##### Trip Advisor dataset"
   ]
  },
  {
   "cell_type": "code",
   "execution_count": 30,
   "metadata": {},
   "outputs": [
    {
     "data": {
      "text/html": [
       "<div>\n",
       "<style scoped>\n",
       "    .dataframe tbody tr th:only-of-type {\n",
       "        vertical-align: middle;\n",
       "    }\n",
       "\n",
       "    .dataframe tbody tr th {\n",
       "        vertical-align: top;\n",
       "    }\n",
       "\n",
       "    .dataframe thead th {\n",
       "        text-align: right;\n",
       "    }\n",
       "</style>\n",
       "<table border=\"1\" class=\"dataframe\">\n",
       "  <thead>\n",
       "    <tr style=\"text-align: right;\">\n",
       "      <th></th>\n",
       "      <th>Unnamed: 0</th>\n",
       "      <th>Name</th>\n",
       "      <th>City</th>\n",
       "      <th>Cuisine Style</th>\n",
       "      <th>Ranking</th>\n",
       "      <th>Rating</th>\n",
       "      <th>Price Range</th>\n",
       "      <th>Number of Reviews</th>\n",
       "      <th>Reviews</th>\n",
       "      <th>URL_TA</th>\n",
       "      <th>ID_TA</th>\n",
       "    </tr>\n",
       "  </thead>\n",
       "  <tbody>\n",
       "    <tr>\n",
       "      <th>0</th>\n",
       "      <td>0</td>\n",
       "      <td>Martine of Martine's Table</td>\n",
       "      <td>Amsterdam</td>\n",
       "      <td>['French', 'Dutch', 'European']</td>\n",
       "      <td>1.0</td>\n",
       "      <td>5.0</td>\n",
       "      <td>$$ - $$$</td>\n",
       "      <td>136.0</td>\n",
       "      <td>[['Just like home', 'A Warm Welcome to Wintry ...</td>\n",
       "      <td>/Restaurant_Review-g188590-d11752080-Reviews-M...</td>\n",
       "      <td>d11752080</td>\n",
       "    </tr>\n",
       "    <tr>\n",
       "      <th>1</th>\n",
       "      <td>1</td>\n",
       "      <td>De Silveren Spiegel</td>\n",
       "      <td>Amsterdam</td>\n",
       "      <td>['Dutch', 'European', 'Vegetarian Friendly', '...</td>\n",
       "      <td>2.0</td>\n",
       "      <td>4.5</td>\n",
       "      <td>$$$$</td>\n",
       "      <td>812.0</td>\n",
       "      <td>[['Great food and staff', 'just perfect'], ['0...</td>\n",
       "      <td>/Restaurant_Review-g188590-d693419-Reviews-De_...</td>\n",
       "      <td>d693419</td>\n",
       "    </tr>\n",
       "  </tbody>\n",
       "</table>\n",
       "</div>"
      ],
      "text/plain": [
       "   Unnamed: 0                        Name       City  \\\n",
       "0           0  Martine of Martine's Table  Amsterdam   \n",
       "1           1         De Silveren Spiegel  Amsterdam   \n",
       "\n",
       "                                       Cuisine Style  Ranking  Rating  \\\n",
       "0                    ['French', 'Dutch', 'European']      1.0     5.0   \n",
       "1  ['Dutch', 'European', 'Vegetarian Friendly', '...      2.0     4.5   \n",
       "\n",
       "  Price Range  Number of Reviews  \\\n",
       "0    $$ - $$$              136.0   \n",
       "1        $$$$              812.0   \n",
       "\n",
       "                                             Reviews  \\\n",
       "0  [['Just like home', 'A Warm Welcome to Wintry ...   \n",
       "1  [['Great food and staff', 'just perfect'], ['0...   \n",
       "\n",
       "                                              URL_TA      ID_TA  \n",
       "0  /Restaurant_Review-g188590-d11752080-Reviews-M...  d11752080  \n",
       "1  /Restaurant_Review-g188590-d693419-Reviews-De_...    d693419  "
      ]
     },
     "execution_count": 30,
     "metadata": {},
     "output_type": "execute_result"
    }
   ],
   "source": [
    "TA_data.head(2)"
   ]
  },
  {
   "cell_type": "code",
   "execution_count": 31,
   "metadata": {},
   "outputs": [
    {
     "data": {
      "text/plain": [
       "(125527, 11)"
      ]
     },
     "execution_count": 31,
     "metadata": {},
     "output_type": "execute_result"
    }
   ],
   "source": [
    "TA_data.shape"
   ]
  },
  {
   "cell_type": "code",
   "execution_count": 32,
   "metadata": {},
   "outputs": [
    {
     "data": {
      "text/plain": [
       "Unnamed: 0             int64\n",
       "Name                  object\n",
       "City                  object\n",
       "Cuisine Style         object\n",
       "Ranking              float64\n",
       "Rating               float64\n",
       "Price Range           object\n",
       "Number of Reviews    float64\n",
       "Reviews               object\n",
       "URL_TA                object\n",
       "ID_TA                 object\n",
       "dtype: object"
      ]
     },
     "execution_count": 32,
     "metadata": {},
     "output_type": "execute_result"
    }
   ],
   "source": [
    "TA_data.dtypes"
   ]
  },
  {
   "cell_type": "code",
   "execution_count": 33,
   "metadata": {},
   "outputs": [],
   "source": [
    "TA_data_bcn=TA_data[TA_data['City']=='Barcelona']"
   ]
  },
  {
   "cell_type": "code",
   "execution_count": 34,
   "metadata": {},
   "outputs": [
    {
     "data": {
      "text/plain": [
       "(8425, 11)"
      ]
     },
     "execution_count": 34,
     "metadata": {},
     "output_type": "execute_result"
    }
   ],
   "source": [
    "TA_data_bcn.shape"
   ]
  },
  {
   "cell_type": "code",
   "execution_count": 35,
   "metadata": {},
   "outputs": [],
   "source": [
    "TA_data_bcn.head(2)\n",
    "TA_data_bcn=TA_data_bcn.drop(['Unnamed: 0', 'URL_TA', 'ID_TA', 'City'], axis=1)"
   ]
  },
  {
   "cell_type": "code",
   "execution_count": 36,
   "metadata": {},
   "outputs": [],
   "source": [
    "TA_data_bcn.replace('NaN', np.nan, inplace=True)\n",
    "TA_data_bcn.columns= TA_data_bcn.columns.str.lower()"
   ]
  },
  {
   "cell_type": "code",
   "execution_count": 37,
   "metadata": {},
   "outputs": [
    {
     "data": {
      "text/html": [
       "<div>\n",
       "<style scoped>\n",
       "    .dataframe tbody tr th:only-of-type {\n",
       "        vertical-align: middle;\n",
       "    }\n",
       "\n",
       "    .dataframe tbody tr th {\n",
       "        vertical-align: top;\n",
       "    }\n",
       "\n",
       "    .dataframe thead th {\n",
       "        text-align: right;\n",
       "    }\n",
       "</style>\n",
       "<table border=\"1\" class=\"dataframe\">\n",
       "  <thead>\n",
       "    <tr style=\"text-align: right;\">\n",
       "      <th></th>\n",
       "      <th>name</th>\n",
       "      <th>cuisine style</th>\n",
       "      <th>ranking</th>\n",
       "      <th>rating</th>\n",
       "      <th>price range</th>\n",
       "      <th>number of reviews</th>\n",
       "      <th>reviews</th>\n",
       "    </tr>\n",
       "  </thead>\n",
       "  <tbody>\n",
       "    <tr>\n",
       "      <th>5372</th>\n",
       "      <td>Uma</td>\n",
       "      <td>['International', 'Mediterranean', 'Fusion', '...</td>\n",
       "      <td>1.0</td>\n",
       "      <td>5.0</td>\n",
       "      <td>$$$$</td>\n",
       "      <td>792.0</td>\n",
       "      <td>[['Perfect atmosphere and location', 'Perfecti...</td>\n",
       "    </tr>\n",
       "    <tr>\n",
       "      <th>5373</th>\n",
       "      <td>Viana</td>\n",
       "      <td>['International', 'Mediterranean', 'Spanish', ...</td>\n",
       "      <td>2.0</td>\n",
       "      <td>5.0</td>\n",
       "      <td>$$ - $$$</td>\n",
       "      <td>2707.0</td>\n",
       "      <td>[['Wow! Best ever!', 'Small menu-- GET A RESER...</td>\n",
       "    </tr>\n",
       "  </tbody>\n",
       "</table>\n",
       "</div>"
      ],
      "text/plain": [
       "       name                                      cuisine style  ranking  \\\n",
       "5372    Uma  ['International', 'Mediterranean', 'Fusion', '...      1.0   \n",
       "5373  Viana  ['International', 'Mediterranean', 'Spanish', ...      2.0   \n",
       "\n",
       "      rating price range  number of reviews  \\\n",
       "5372     5.0        $$$$              792.0   \n",
       "5373     5.0    $$ - $$$             2707.0   \n",
       "\n",
       "                                                reviews  \n",
       "5372  [['Perfect atmosphere and location', 'Perfecti...  \n",
       "5373  [['Wow! Best ever!', 'Small menu-- GET A RESER...  "
      ]
     },
     "execution_count": 37,
     "metadata": {},
     "output_type": "execute_result"
    }
   ],
   "source": [
    "TA_data_bcn.head(2)"
   ]
  },
  {
   "cell_type": "code",
   "execution_count": 38,
   "metadata": {},
   "outputs": [],
   "source": [
    "TA_data_bcn=TA_data_bcn.reset_index().drop('index', axis=1)"
   ]
  },
  {
   "cell_type": "code",
   "execution_count": 39,
   "metadata": {},
   "outputs": [
    {
     "data": {
      "text/plain": [
       "5407"
      ]
     },
     "execution_count": 39,
     "metadata": {},
     "output_type": "execute_result"
    }
   ],
   "source": [
    "TA_data_bcn['price range'].value_counts().sum()"
   ]
  },
  {
   "cell_type": "code",
   "execution_count": 40,
   "metadata": {},
   "outputs": [
    {
     "data": {
      "text/plain": [
       "name                 8425\n",
       "cuisine style        6388\n",
       "ranking              7795\n",
       "rating               7793\n",
       "price range          5407\n",
       "number of reviews    7264\n",
       "reviews              7793\n",
       "dtype: int64"
      ]
     },
     "execution_count": 40,
     "metadata": {},
     "output_type": "execute_result"
    }
   ],
   "source": [
    "TA_data_bcn.count()"
   ]
  },
  {
   "cell_type": "code",
   "execution_count": 41,
   "metadata": {},
   "outputs": [
    {
     "data": {
      "text/plain": [
       "(8425, 7)"
      ]
     },
     "execution_count": 41,
     "metadata": {},
     "output_type": "execute_result"
    }
   ],
   "source": [
    "TA_data_bcn.shape"
   ]
  },
  {
   "cell_type": "code",
   "execution_count": 42,
   "metadata": {},
   "outputs": [],
   "source": [
    "pits_od=pits_od.drop_duplicates()"
   ]
  },
  {
   "cell_type": "code",
   "execution_count": 43,
   "metadata": {},
   "outputs": [
    {
     "data": {
      "text/plain": [
       "Series([], Name: title, dtype: object)"
      ]
     },
     "execution_count": 43,
     "metadata": {},
     "output_type": "execute_result"
    }
   ],
   "source": [
    "pits_od[pits_od['name']=='El Parc del Fòrum']['title']"
   ]
  }
 ],
 "metadata": {
  "kernelspec": {
   "display_name": "Python 3",
   "language": "python",
   "name": "python3"
  },
  "language_info": {
   "codemirror_mode": {
    "name": "ipython",
    "version": 3
   },
   "file_extension": ".py",
   "mimetype": "text/x-python",
   "name": "python",
   "nbconvert_exporter": "python",
   "pygments_lexer": "ipython3",
   "version": "3.8.5"
  }
 },
 "nbformat": 4,
 "nbformat_minor": 4
}
