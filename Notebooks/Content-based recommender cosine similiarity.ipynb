{
 "cells": [
  {
   "cell_type": "code",
   "execution_count": 319,
   "metadata": {},
   "outputs": [],
   "source": [
    "import pandas as pd\n",
    "import numpy as np\n",
    "from sklearn.feature_extraction.text import TfidfVectorizer\n",
    "from sklearn.metrics.pairwise import cosine_similarity"
   ]
  },
  {
   "cell_type": "code",
   "execution_count": 320,
   "metadata": {},
   "outputs": [],
   "source": [
    "pits_od=pd.read_excel('/Users/santiagoborgnino/Documents/Github/Smart-Tour/Datasets/pits_opendata.xls')\n",
    "google_data=pd.read_csv('google_data.csv')"
   ]
  },
  {
   "cell_type": "code",
   "execution_count": 321,
   "metadata": {},
   "outputs": [],
   "source": [
    "pits_od=pits_od.drop(['originalpost','categories','atencio_eq', 'phonenumber','type','tp','date','author','tags','language','pos', 'num', 'city', 'address', 'code_url', 'related_post', 'attachments', 'vignette', 'moreinfo', 'usergroup', 'post_modified', 'original_modified', 'wt', 'sigla', 'sectionname'], axis=1)"
   ]
  },
  {
   "cell_type": "code",
   "execution_count": 322,
   "metadata": {},
   "outputs": [],
   "source": [
    "#Apply upper case for names\n",
    "pits_od['name'] = pits_od['name'].str.upper()\n",
    "pits_od['title']=pits_od['title'].str.upper()\n",
    "#Remove white space at the beginning and end of the name\n",
    "pits_od['name'] = pits_od['name'].str.lstrip()\n"
   ]
  },
  {
   "cell_type": "code",
   "execution_count": 323,
   "metadata": {},
   "outputs": [
    {
     "data": {
      "text/html": [
       "<div>\n",
       "<style scoped>\n",
       "    .dataframe tbody tr th:only-of-type {\n",
       "        vertical-align: middle;\n",
       "    }\n",
       "\n",
       "    .dataframe tbody tr th {\n",
       "        vertical-align: top;\n",
       "    }\n",
       "\n",
       "    .dataframe thead th {\n",
       "        text-align: right;\n",
       "    }\n",
       "</style>\n",
       "<table border=\"1\" class=\"dataframe\">\n",
       "  <thead>\n",
       "    <tr style=\"text-align: right;\">\n",
       "      <th></th>\n",
       "      <th>district</th>\n",
       "      <th>gmapx</th>\n",
       "      <th>gmapy</th>\n",
       "      <th>id</th>\n",
       "      <th>name</th>\n",
       "      <th>title</th>\n",
       "      <th>excerpt</th>\n",
       "      <th>content</th>\n",
       "    </tr>\n",
       "  </thead>\n",
       "  <tbody>\n",
       "    <tr>\n",
       "      <th>0</th>\n",
       "      <td>Sants-Montjuïc</td>\n",
       "      <td>41.361374</td>\n",
       "      <td>2.159711</td>\n",
       "      <td>190829.0</td>\n",
       "      <td>PARC DE MONTJUÏC</td>\n",
       "      <td>EL PARC DE MONTJUÏC</td>\n",
       "      <td>&lt;p&gt;El gran espai natural del parc de Montjuïc ...</td>\n",
       "      <td>&lt;h3&gt;Un turó amb història&lt;/h3&gt;\\r\\n&lt;p&gt;Assentat s...</td>\n",
       "    </tr>\n",
       "    <tr>\n",
       "      <th>2</th>\n",
       "      <td>Sant Martí</td>\n",
       "      <td>41.411034</td>\n",
       "      <td>2.221698</td>\n",
       "      <td>190952.0</td>\n",
       "      <td>EL PARC DEL FÒRUM</td>\n",
       "      <td>EL PARC DEL FÒRUM</td>\n",
       "      <td>&lt;p&gt;El recinte projectat arran de mar per acoll...</td>\n",
       "      <td>&lt;h3&gt;Un gran esdeveniment&lt;/h3&gt;\\r\\n&lt;p&gt;El parc de...</td>\n",
       "    </tr>\n",
       "  </tbody>\n",
       "</table>\n",
       "</div>"
      ],
      "text/plain": [
       "         district      gmapx     gmapy        id               name  \\\n",
       "0  Sants-Montjuïc  41.361374  2.159711  190829.0   PARC DE MONTJUÏC   \n",
       "2      Sant Martí  41.411034  2.221698  190952.0  EL PARC DEL FÒRUM   \n",
       "\n",
       "                 title                                            excerpt  \\\n",
       "0  EL PARC DE MONTJUÏC  <p>El gran espai natural del parc de Montjuïc ...   \n",
       "2    EL PARC DEL FÒRUM  <p>El recinte projectat arran de mar per acoll...   \n",
       "\n",
       "                                             content  \n",
       "0  <h3>Un turó amb història</h3>\\r\\n<p>Assentat s...  \n",
       "2  <h3>Un gran esdeveniment</h3>\\r\\n<p>El parc de...  "
      ]
     },
     "execution_count": 323,
     "metadata": {},
     "output_type": "execute_result"
    }
   ],
   "source": [
    "pits_od=pits_od.drop_duplicates('id')\n",
    "pits_od.head(2)"
   ]
  },
  {
   "cell_type": "code",
   "execution_count": 324,
   "metadata": {},
   "outputs": [
    {
     "name": "stdout",
     "output_type": "stream",
     "text": [
      "El gran espai natural del parc de Montjuïc és el millor lloc per gaudir de la natura i la cultura alhora, perquè és ple de magnífics jardins i d’instal·lacions culturals\n",
      " \n",
      "Un turó amb històriaAssentat sobre el turó que recorre el barri de Sants i mira cap al mar, Montjuïc ha estat testimoni i escenari de múltiples fets transcendentals en la història de Barcelona. Es va començar a urbanitzar a partir de l’Exposició Universal del 1929. Després dels successos dramàtics de la Guerra Civil, en què el castell va funcionar com a presó, l’indret va canviar i, amb els Jocs Olímpics de 1992, es va renovar completament i va tornar a adquirir un caràcter festiu i alegre per als barcelonins.El nom del turó, de 177 metres d’alçària, ha estat un tema de controvèrsia, ja que Montjuïc en català medieval podria traduir-se com a &#8216;Mont dels jueus&#8216;, la qual cosa està avalada per l’existència d’un cementiri jueu a la muntanya.Natura, cultura i esportEn aquest gran pulmó verd de la ciutat s’hi troben nombrosos jardins on es pot passejar, descansar, jugar, fer esport o, simplement, gaudir de la natura. El Jardí Botànic desplega la seva col·lecció de plantes mediterrànies en un terreny marcat per forts desnivells que es converteix en un gran mirador. També es pot gaudir de vegetació i bones vistes als jardins de Mossèn Costa i Llobera, especialitzat en cactus, i als jardins de Mossèn Cinto Verdaguer, amb una col·lecció de flors de nombroses espècies que el fan estar florit tot l’any. Els jardins de Laribal, amb cascades sorprenents, amaguen la popular font del Gat, on els barcelonins antigament anaven a berenar el diumenge. I els jardins Joan Brossa, uns dels més nous, s’obren com un refrescant parc forestal esquitxat de coixins musicals, jocs i tirolines que són les delícies dels nens.Farcit d’instal·lacions culturals i esportives, com ara la Fundació Miró, el Caixa Forum, les piscines Bernat Picornell o l’Estadi Olímpic Lluís Companys, Montjuïc ofereix cultura, natura i història tot en un. La Font Màgica o el Poble Espanyol són també punts de gran atractiu i interès per visitar dins un espai natural enorme i ple de racons secrets per descobrir. \n"
     ]
    }
   ],
   "source": [
    "#Removing noise strings from exceprt\n",
    "pits_od['excerpt'] = pits_od['excerpt'].str.replace('<p>', '')\n",
    "pits_od['excerpt'] = pits_od['excerpt'].str.replace('</p', '')\n",
    "pits_od['excerpt'] = pits_od['excerpt'].str.replace('.>', '')\n",
    "\n",
    "\n",
    "#Removing noise strings from content\n",
    "pits_od['content']=pits_od['content'].str.replace('<h3>', '' )\n",
    "pits_od['content']=pits_od['content'].str.replace('</h3>', '' )\n",
    "pits_od['content']=pits_od['content'].str.replace('\\r\\n', '' )\n",
    "pits_od['content']=pits_od['content'].str.replace('<p>', '' )\n",
    "pits_od['content']=pits_od['content'].str.replace('<strong>', '' )\n",
    "pits_od['content']=pits_od['content'].str.replace('</strong>', '' )\n",
    "pits_od['content']=pits_od['content'].str.replace('</p>', '' )\n",
    "pits_od['content']=pits_od['content'].str.replace('<!-- .photo-galleria -->', '' )\n",
    "\n",
    "print(pits_od.excerpt[0])\n",
    "print(\" \")\n",
    "print(pits_od.content[0])"
   ]
  },
  {
   "cell_type": "code",
   "execution_count": 325,
   "metadata": {},
   "outputs": [],
   "source": [
    "pits_od['excerpt'] = pits_od['excerpt'].fillna('')"
   ]
  },
  {
   "cell_type": "code",
   "execution_count": 326,
   "metadata": {},
   "outputs": [
    {
     "data": {
      "text/plain": [
       "0      Un turó amb històriaAssentat sobre el turó que...\n",
       "2      Un gran esdevenimentEl parc del Fòrum és l&#82...\n",
       "3      &#8220;Planeta Vida&#8221;El Museu de Ciències...\n",
       "4      Natura urbanaPollancres, acàcies, magnòlies&#8...\n",
       "5      Un amfiteatre naturalEntre el Castell de Montj...\n",
       "                             ...                        \n",
       "847    Un parc d’ociEls terrenys que ocupava la fàbri...\n",
       "848    Les pintures de Pere PrunaLa pintura de Pruna ...\n",
       "849    Espai de prestigiPensat per ser un recinte des...\n",
       "850    Activitats al carrerL’eix, que forma part de l...\n",
       "851                                                  NaN\n",
       "Name: content, Length: 851, dtype: object"
      ]
     },
     "execution_count": 326,
     "metadata": {},
     "output_type": "execute_result"
    }
   ],
   "source": [
    "pits_od['content']"
   ]
  },
  {
   "cell_type": "code",
   "execution_count": 327,
   "metadata": {},
   "outputs": [],
   "source": [
    "google_data.set_index('name', inplace=True)\n",
    "pits_od.set_index('title', inplace=True)"
   ]
  },
  {
   "cell_type": "code",
   "execution_count": 328,
   "metadata": {},
   "outputs": [],
   "source": [
    "pits_od=pits_od.join(google_data, how='inner')"
   ]
  },
  {
   "cell_type": "code",
   "execution_count": 329,
   "metadata": {},
   "outputs": [],
   "source": [
    "pits_od.reset_index(inplace=True)"
   ]
  },
  {
   "cell_type": "code",
   "execution_count": 330,
   "metadata": {},
   "outputs": [
    {
     "data": {
      "text/plain": [
       "(52, 40)"
      ]
     },
     "execution_count": 330,
     "metadata": {},
     "output_type": "execute_result"
    }
   ],
   "source": [
    "pits_od.shape"
   ]
  },
  {
   "cell_type": "code",
   "execution_count": 331,
   "metadata": {},
   "outputs": [
    {
     "data": {
      "text/plain": [
       "Index(['index', 'district', 'gmapx', 'gmapy', 'id', 'name', 'excerpt',\n",
       "       'content', 'categoryName', 'temporarilyClosed', 'permanentlyClosed',\n",
       "       'totalScore', 'location', 'popularTimesHistogram', 'reviewsCount',\n",
       "       'latitud', 'longitud', 'tipo', '1994', '2000', '2011', '2014', '2015',\n",
       "       '2016', '2017', '2018', '2019', 'Average', '1', '2', '3', '4', '5', '6',\n",
       "       '7', '8', '9', '10', '11', '12'],\n",
       "      dtype='object')"
      ]
     },
     "execution_count": 331,
     "metadata": {},
     "output_type": "execute_result"
    }
   ],
   "source": [
    "pits_od.columns"
   ]
  },
  {
   "cell_type": "code",
   "execution_count": 332,
   "metadata": {},
   "outputs": [],
   "source": [
    "pits_od=pits_od[~pits_od['excerpt'].isna()]"
   ]
  },
  {
   "cell_type": "code",
   "execution_count": 333,
   "metadata": {},
   "outputs": [],
   "source": [
    "pits_od['excerpt']=pits_od['excerpt']+pits_od['excerpt']"
   ]
  },
  {
   "cell_type": "code",
   "execution_count": 334,
   "metadata": {},
   "outputs": [],
   "source": [
    "tfidf = TfidfVectorizer(max_df=0.95)\n",
    "tfidf_matrix = tfidf.fit_transform(pits_od['excerpt'])"
   ]
  },
  {
   "cell_type": "code",
   "execution_count": 335,
   "metadata": {},
   "outputs": [
    {
     "name": "stdout",
     "output_type": "stream",
     "text": [
      "['14', '14la', '1888', '1893', '1926', '1929', '1946', '1991', '2001', '2001l', '450', 'abraça', 'accedeix', 'accedir', 'acomiada', 'actiu', 'activitats', 'actualitat', 'actualitatnascuda', 'actualment', 'acull', 'agosarades', 'aixecar', 'així', 'al', 'alberga', 'allotja', 'als', 'alta', 'altres', 'alça', 'amaga', 'amagat', 'amb', 'animals', 'antenes', 'antic', 'antiga', 'antigues', 'antoni', 'any', 'anys', 'apropa', 'apropar', 'aquest', 'aquàrium', 'ara', 'arqueologia', 'arqueològiques', 'arquitecte', 'arquitectura', 'arquitectònic', 'arreu', 'art', 'arts', 'artística', 'artístiques', 'atalaia', 'atraccions', 'autòmats', 'avantguardista', 'avinguda', 'avui', 'banc', 'barcelona', 'barcelonael', 'barcelonal', 'barcelonala', 'barcelonaobra', 'barcelonasímbol', 'barcelonatestimoni', 'barri', 'barroc', 'barça', 'batlló', 'bell', 'bellesa', 'blau', 'born', 'cabines', 'cada', 'caixaforum', 'camp', 'can', 'cantonada', 'captiva', 'característica', 'carrers', 'casa', 'castell', 'catalunya', 'catalunyal', 'català', 'catalàubicada', 'cedir', 'cel', 'celsímbol', 'centenari', 'centenària', 'centre', 'centres', 'cera', 'cim', 'ciutadans', 'ciutat', 'ciutatdes', 'ciutatel', 'ciutatl', 'ciència', 'ciències', 'claustre', 'club', 'coats', 'col', 'colectania', 'collserola', 'colom', 'colossal', 'com', 'començament', 'complet', 'complexitat', 'comportar', 'comtal', 'comtalel', 'comunitats', 'concebut', 'conegut', 'coneguts', 'coneixement', 'conjunta', 'connexió', 'consciència', 'conserva', 'conservació', 'considerat', 'contemporani', 'contemporaniamagat', 'contemporània', 'convertit', 'convida', 'conèixer', 'cor', 'cosmocaixa', 'creacions', 'creacionsla', 'creació', 'creaciól', 'creativa', 'creativitat', 'cultura', 'cultural', 'culturals', 'cultures', 'darrere', 'decidir', 'del', 'deliciós', 'deliciósdarrere', 'dels', 'der', 'des', 'descobreix', 'devot', 'dia', 'diagonal', 'diferent', 'diferents', 'diferentsno', 'difusió', 'dins', 'directa', 'disseny', 'dissenyar', 'distingeix', 'diverses', 'domènech', 'dos', 'drac', 'dracl', 'drassanes', 'durant', 'dóna', 'edifici', 'edificis', 'egipci', 'egiptologia', 'eix', 'eixample', 'el', 'elaborades', 'elements', 'elevant', 'els', 'embarcacions', 'emblemes', 'emblemàtic', 'emissió', 'emissora', 'emmarca', 'en', 'enllà', 'ens', 'entorn', 'entre', 'epicentre', 'es', 'escala', 'esclat', 'escultor', 'escultura', 'espai', 'espanya', 'espanyales', 'espanyol', 'espanyola', 'especialment', 'espectaculars', 'esperit', 'esplendor', 'esplendorel', 'esport', 'esportiu', 'espècies', 'essencial', 'estadi', 'estat', 'estaven', 'estil', 'estudi', 'està', 'estàtua', 'etnològic', 'europa', 'evolució', 'excel', 'exercici', 'exhibeix', 'exhibeixal', 'experiència', 'exposició', 'extraordinaris', 'fa', 'fabra', 'falda', 'famosa', 'família', 'famós', 'fantasia', 'fantasiós', 'façana', 'fer', 'ferotges', 'figures', 'filatures', 'fins', 'fons', 'forma', 'formes', 'fos', 'fosca', 'foto', 'fotografia', 'framis', 'frederic', 'fundació', 'funicular', 'futbol', 'futurista', 'fàbrica', 'fàbriques', 'físic', 'fòrum', 'gaudir', 'gaudí', 'gaudíamb', 'gaudíelevant', 'gaudíla', 'gegantina', 'gegantinaa', 'genial', 'glòries', 'golondrinas', 'gran', 'grans', 'grapadora', 'gremi', 'gràcia', 'guerrers', 'gòtica', 'güell', 'ha', 'hi', 'història', 'històric', 'homenatge', 'horta', 'hospital', 'hub', 'ibèrica', 'ibèricaun', 'imatge', 'imponents', 'important', 'imprescindible', 'impressionant', 'impressionanta', 'impressionants', 'impulsar', 'indrets', 'industrial', 'inicis', 'innovació', 'internacional', 'internacionalla', 'jardins', 'jardí', 'joan', 'joia', 'joies', 'joventut', 'la', 'laberint', 'las', 'lecció', 'lent', 'les', 'litoral', 'litoraltestimoni', 'lloc', 'llom', 'lluís', 'macba', 'magnífic', 'magnífica', 'mar', 'marcar', 'marès', 'marèsl', 'marí', 'marítim', 'material', 'materialubicat', 'medieval', 'memòria', 'ment', 'mercat', 'mestra', 'mestres', 'mies', 'mig', 'millor', 'millors', 'miradors', 'miró', 'misteris', 'modernisme', 'modernista', 'molt', 'molts', 'monestir', 'montaner', 'montjuïc', 'mostra', 'mostrar', 'mundial', 'muntanya', 'museu', 'mà', 'màsituat', 'més', 'mònica', 'món', 'mónamb', 'nacional', 'nascuda', 'natura', 'natural', 'naturals', 'naturaubicat', 'navegant', 'neixen', 'neoclàssic', 'no', 'nom', 'només', 'nou', 'nous', 'nouveau', 'noves', 'número', 'obert', 'objectiu', 'obra', 'obres', 'obrir', 'observar', 'ofereix', 'ofereixen', 'oferir', 'olfacte', 'olímpic', 'olímpica', 'on', 'ondulada', 'original', 'paisatgisme', 'palau', 'panoràmic', 'panoràmica', 'panoràmicfer', 'parc', 'park', 'part', 'passeig', 'pastisseria', 'pau', 'pavelló', 'país', 'peces', 'pedralbes', 'pedrera', 'pel', 'península', 'per', 'perfum', 'permet', 'persones', 'petit', 'picasso', 'pintor', 'pintorubicat', 'pintura', 'plaça', 'ple', 'poble', 'pobles', 'poden', 'populars', 'port', 'porta', 'portes', 'posicionat', 'possibilitat', 'pot', 'preciós', 'prehistòria', 'pren', 'prendre', 'presenta', 'presideix', 'prestigi', 'prestigiconsiderat', 'primera', 'primeres', 'primers', 'principal', 'privilegiada', 'producte', 'prop', 'propostes', 'públiques', 'que', 'qui', 'racionalista', 'rambla', 'raval', 'recinte', 'recorregut', 'recorren', 'recuperat', 'referent', 'referència', 'reials', 'relació', 'remodelat', 'rep', 'repertori', 'residència', 'restes', 'ret', 'ribera', 'robert', 'rohe', 'romans', 'romànica', 'romànicael', 'ràdio', 'sagrada', 'sant', 'santa', 'se', 'secret', 'segle', 'segles', 'seixanta', 'sembla', 'ser', 'seu', 'seus', 'seva', 'seves', 'si', 'silueta', 'singular', 'sinó', 'situades', 'situat', 'sobre', 'sobrevolen', 'social', 'socialles', 'sortida', 'sostre', 'suñol', 'sèrie', 'símbol', 'són', 'tallers', 'també', 'tard', 'telefèric', 'tenir', 'terrat', 'testimoni', 'tibidabo', 'tingui', 'tocar', 'torre', 'tothom', 'tothoma', 'tradició', 'transforma', 'transformació', 'transformar', 'transformat', 'transport', 'traçat', 'trobar', 'turístiques', 'tàpies', 'té', 'ubicada', 'ubicat', 'un', 'una', 'uneix', 'univers', 'va', 'valuosa', 'valuoses', 'van', 'vell', 'vertigen', 'vestigis', 'vestigisl', 'vicens', 'vida', 'vila', 'vincle', 'virreina', 'visitats', 'visió', 'vista', 'vistes', 'viu', 'viuen', 'viure', 'xemeneies', 'xix', 'xocolata', 'xviii', 'xx', 'xxel', 'xxi', 'zona', 'zoo', 'àmbit', 'època', 'és', 'íntim', 'única', 'únicaamb']\n"
     ]
    }
   ],
   "source": [
    "print(tfidf.get_feature_names())"
   ]
  },
  {
   "cell_type": "code",
   "execution_count": 336,
   "metadata": {},
   "outputs": [
    {
     "data": {
      "text/plain": [
       "<52x583 sparse matrix of type '<class 'numpy.float64'>'\n",
       "\twith 1178 stored elements in Compressed Sparse Row format>"
      ]
     },
     "execution_count": 336,
     "metadata": {},
     "output_type": "execute_result"
    }
   ],
   "source": [
    "tfidf_matrix"
   ]
  },
  {
   "cell_type": "code",
   "execution_count": 337,
   "metadata": {},
   "outputs": [],
   "source": [
    "cosine_sim = cosine_similarity(tfidf_matrix, tfidf_matrix)"
   ]
  },
  {
   "cell_type": "code",
   "execution_count": 338,
   "metadata": {},
   "outputs": [
    {
     "data": {
      "text/plain": [
       "array([[1.        , 0.0477531 , 0.16166871, 0.09571576, 0.00899099,\n",
       "        0.01610952, 0.01715695, 0.01916097, 0.04140001, 0.07704848,\n",
       "        0.03467897, 0.03262236, 0.03166424, 0.11421856, 0.03575805,\n",
       "        0.01609321, 0.05873163, 0.10107527, 0.0891486 , 0.03406341,\n",
       "        0.05568011, 0.05098215, 0.02627468, 0.03755417, 0.01403523,\n",
       "        0.02028829, 0.06158919, 0.13595971, 0.02437658, 0.03653691,\n",
       "        0.        , 0.12878259, 0.03919758, 0.04485079, 0.1504129 ,\n",
       "        0.04523128, 0.02322731, 0.06152428, 0.02807903, 0.0347144 ,\n",
       "        0.09606183, 0.08751909, 0.05383102, 0.1017672 , 0.0208968 ,\n",
       "        0.0588491 , 0.02791175, 0.04984414, 0.02376657, 0.03635661,\n",
       "        0.0314586 , 0.03860105],\n",
       "       [0.0477531 , 1.        , 0.05992844, 0.12688462, 0.07248643,\n",
       "        0.03933579, 0.09324398, 0.07029934, 0.20065025, 0.0284651 ,\n",
       "        0.08106242, 0.13288364, 0.05498135, 0.14802331, 0.13363273,\n",
       "        0.04793501, 0.14812484, 0.20647178, 0.09478886, 0.12048637,\n",
       "        0.07030988, 0.05015539, 0.04080526, 0.13856444, 0.04049383,\n",
       "        0.07815161, 0.09655785, 0.06638667, 0.04843982, 0.12006551,\n",
       "        0.13747115, 0.10796558, 0.13783416, 0.10681034, 0.11181738,\n",
       "        0.06586237, 0.14338573, 0.10330008, 0.10097796, 0.12200981,\n",
       "        0.0868584 , 0.11211905, 0.14022824, 0.16961862, 0.03787108,\n",
       "        0.02986165, 0.07042167, 0.11114416, 0.08767823, 0.09975434,\n",
       "        0.14736163, 0.17161066],\n",
       "       [0.16166871, 0.05992844, 1.        , 0.02916549, 0.0457138 ,\n",
       "        0.08187772, 0.03664197, 0.10804883, 0.04901969, 0.02500975,\n",
       "        0.02109985, 0.0736762 , 0.0430645 , 0.07955824, 0.02574784,\n",
       "        0.05518711, 0.02699348, 0.03749371, 0.08480531, 0.02470896,\n",
       "        0.03561214, 0.06251843, 0.04634514, 0.05329107, 0.05612049,\n",
       "        0.03551473, 0.09829835, 0.05781389, 0.10752939, 0.07912732,\n",
       "        0.05331725, 0.04541449, 0.07700128, 0.08104787, 0.04398413,\n",
       "        0.02520954, 0.04980617, 0.04255359, 0.02869704, 0.18746622,\n",
       "        0.07293931, 0.10685144, 0.04960739, 0.07647675, 0.05345943,\n",
       "        0.04125383, 0.00768937, 0.0468326 , 0.05171425, 0.06719556,\n",
       "        0.02411043, 0.07310245],\n",
       "       [0.09571576, 0.12688462, 0.02916549, 1.        , 0.04206881,\n",
       "        0.04082607, 0.11888255, 0.03395588, 0.0557924 , 0.03076878,\n",
       "        0.04131754, 0.0640485 , 0.01511219, 0.10530039, 0.11081283,\n",
       "        0.07268082, 0.05852564, 0.09704972, 0.04142178, 0.12584874,\n",
       "        0.02602291, 0.03993218, 0.05935331, 0.07787879, 0.0350747 ,\n",
       "        0.05744295, 0.09485498, 0.10193041, 0.01214523, 0.09290995,\n",
       "        0.04285393, 0.10040882, 0.06042335, 0.05238318, 0.11531771,\n",
       "        0.02817654, 0.11913704, 0.0401956 , 0.04957238, 0.05312995,\n",
       "        0.04755751, 0.09568228, 0.06264321, 0.05852977, 0.03543233,\n",
       "        0.0478838 , 0.10075228, 0.05306444, 0.05597241, 0.06539484,\n",
       "        0.10393065, 0.14403937]])"
      ]
     },
     "execution_count": 338,
     "metadata": {},
     "output_type": "execute_result"
    }
   ],
   "source": [
    "cosine_sim[0:4]"
   ]
  },
  {
   "cell_type": "code",
   "execution_count": 339,
   "metadata": {},
   "outputs": [],
   "source": [
    "indices = pd.Series(pits_od.index, index=pits_od['index'])"
   ]
  },
  {
   "cell_type": "code",
   "execution_count": 340,
   "metadata": {},
   "outputs": [
    {
     "data": {
      "text/plain": [
       "index\n",
       "AQUARIUM BARCELONA DE GREG                            0\n",
       "BARCELONA MUSEUM OF CONTEMPORARY ART                  1\n",
       "BARCELONA ZOO                                         2\n",
       "CAIXAFORUM BARCELONA                                  3\n",
       "CASA BATLLÓ                                           4\n",
       "CASA MILÀ                                             5\n",
       "CASA VICENS GAUDÍ                                     6\n",
       "CATALAN MUSEUM OF ARCHAEOLOGY                         7\n",
       "CENTRE DE CULTURA CONTEMPORÀNIA DE BARCELONA          8\n",
       "COLUMBUS MONUMENT                                     9\n",
       "COSMOCAIXA BARCELONA                                 10\n",
       "EL BORN CENTRE DE CULTURA I MEMÒRIA                  11\n",
       "FABRA I COATS                                        12\n",
       "FC BARCELONA MUSEUM                                  13\n",
       "FUNDACIÓ ANTONI TÀPIES                               14\n",
       "FUNDACIÓ FOTO COLECTANIA                             15\n",
       "FUNDACIÓ SUÑOL                                       16\n",
       "FUNDACIÓ VILA CASAS                                  17\n",
       "GAUDÍ HOUSE MUSEUM                                   18\n",
       "GÜELL PALACE                                         19\n",
       "JOAN MIRÓ FOUNDATION                                 20\n",
       "LA SAGRADA FAMILIA                                   21\n",
       "LAS GOLONDRINAS / PORT DE BARCELONA                  22\n",
       "MARITIME MUSEUM                                      23\n",
       "MIES VAN DER ROHE PAVILION                           24\n",
       "MONASTERIO DE PEDRALBES                              25\n",
       "MONTJUÏC CASTLE                                      26\n",
       "MUSEU D'AUTÒMATS                                     27\n",
       "MUSEU D'HISTÒRIA DE BARCELONA MUHBA                  28\n",
       "MUSEU DE CERA DE BARCELONA                           29\n",
       "MUSEU DE CIÈNCIES NATURALS DE BARCELONA              30\n",
       "MUSEU DE LA XOCOLATA                                 31\n",
       "MUSEU DEL DISSENY DE BARCELONA                       32\n",
       "MUSEU DEL MODERNISME CATALÀ                          33\n",
       "MUSEU EGIPCI DE BARCELONA                            34\n",
       "MUSEU ETNOLÒGIC I DE CULTURES DEL MÓN                35\n",
       "MUSEU FREDERIC MARÈS                                 36\n",
       "MUSEU NACIONAL D'ART DE CATALUNYA                    37\n",
       "MUSEU OLÍMPIC I DE L'ESPORT JOAN ANTONI SAMARANCH    38\n",
       "PALAU ROBERT                                         39\n",
       "PARC DEL LABERINT D'HORTA                            40\n",
       "PARK GÜELL                                           41\n",
       "PERFUME MUSEUM                                       42\n",
       "PICASSO MUSEUM                                       43\n",
       "POBLE ESPANYOL                                       44\n",
       "RECINTE MODERNISTA DE SANT PAU                       45\n",
       "SANTA MÒNICA                                         46\n",
       "TELEFÈRIC DE MONTJUÏC (BARCELONA CABLE CAR)          47\n",
       "TIBIDABO AMUSEMENT PARK                              48\n",
       "TIBIDABO FUNICULAR                                   49\n",
       "TORRE DE COLLSEROLA                                  50\n",
       "VIRREINA PALACE                                      51\n",
       "dtype: int64"
      ]
     },
     "execution_count": 340,
     "metadata": {},
     "output_type": "execute_result"
    }
   ],
   "source": [
    "indices"
   ]
  },
  {
   "cell_type": "code",
   "execution_count": 341,
   "metadata": {},
   "outputs": [],
   "source": [
    "indices = indices[~indices.index.duplicated(keep='last')]"
   ]
  },
  {
   "cell_type": "code",
   "execution_count": 342,
   "metadata": {},
   "outputs": [],
   "source": [
    "def content_based_recommender(title, cosine_sim, dataframe):\n",
    "\n",
    "    dataframe = dataframe[~dataframe[\"index\"].isna()]\n",
    "    indices = pd.Series(dataframe.index, index=dataframe['index'])\n",
    "    indices = indices[~indices.index.duplicated(keep='last')]\n",
    "\n",
    "    movie_index = indices[title]\n",
    "\n",
    "    similarity_scores = pd.DataFrame(cosine_sim[movie_index], columns=[\"score\"])\n",
    "\n",
    "    movie_indices = similarity_scores.sort_values(\"score\", ascending=False)[1:11].index\n",
    "    return dataframe['index'].iloc[movie_indices]"
   ]
  },
  {
   "cell_type": "code",
   "execution_count": 349,
   "metadata": {},
   "outputs": [
    {
     "data": {
      "text/plain": [
       "51                VIRREINA PALACE\n",
       "5                       CASA MILÀ\n",
       "33    MUSEU DEL MODERNISME CATALÀ\n",
       "40      PARC DEL LABERINT D'HORTA\n",
       "15       FUNDACIÓ FOTO COLECTANIA\n",
       "18             GAUDÍ HOUSE MUSEUM\n",
       "50            TORRE DE COLLSEROLA\n",
       "26                MONTJUÏC CASTLE\n",
       "24     MIES VAN DER ROHE PAVILION\n",
       "41                     PARK GÜELL\n",
       "Name: index, dtype: object"
      ]
     },
     "execution_count": 349,
     "metadata": {},
     "output_type": "execute_result"
    }
   ],
   "source": [
    "content_based_recommender(\"LA SAGRADA FAMILIA\", cosine_sim, pits_od)"
   ]
  },
  {
   "cell_type": "code",
   "execution_count": 344,
   "metadata": {},
   "outputs": [
    {
     "data": {
      "text/html": [
       "<div>\n",
       "<style scoped>\n",
       "    .dataframe tbody tr th:only-of-type {\n",
       "        vertical-align: middle;\n",
       "    }\n",
       "\n",
       "    .dataframe tbody tr th {\n",
       "        vertical-align: top;\n",
       "    }\n",
       "\n",
       "    .dataframe thead th {\n",
       "        text-align: right;\n",
       "    }\n",
       "</style>\n",
       "<table border=\"1\" class=\"dataframe\">\n",
       "  <thead>\n",
       "    <tr style=\"text-align: right;\">\n",
       "      <th></th>\n",
       "      <th>index</th>\n",
       "      <th>district</th>\n",
       "      <th>gmapx</th>\n",
       "      <th>gmapy</th>\n",
       "      <th>id</th>\n",
       "      <th>name</th>\n",
       "      <th>excerpt</th>\n",
       "      <th>content</th>\n",
       "      <th>categoryName</th>\n",
       "      <th>temporarilyClosed</th>\n",
       "      <th>...</th>\n",
       "      <th>3</th>\n",
       "      <th>4</th>\n",
       "      <th>5</th>\n",
       "      <th>6</th>\n",
       "      <th>7</th>\n",
       "      <th>8</th>\n",
       "      <th>9</th>\n",
       "      <th>10</th>\n",
       "      <th>11</th>\n",
       "      <th>12</th>\n",
       "    </tr>\n",
       "  </thead>\n",
       "  <tbody>\n",
       "    <tr>\n",
       "      <th>30</th>\n",
       "      <td>MUSEU DE CIÈNCIES NATURALS DE BARCELONA</td>\n",
       "      <td>Sant Martí</td>\n",
       "      <td>41.41078</td>\n",
       "      <td>2.220482</td>\n",
       "      <td>190945.0</td>\n",
       "      <td>MUSEU DE CIÈNCIES NATURALS DE BARCELONA</td>\n",
       "      <td>Ubicat en el singular Edifici Fòrum, el Museu ...</td>\n",
       "      <td>&amp;#8220;Planeta Vida&amp;#8221;El Museu de Ciències...</td>\n",
       "      <td>Natural history museum</td>\n",
       "      <td>False</td>\n",
       "      <td>...</td>\n",
       "      <td>15255.077417</td>\n",
       "      <td>20867.947588</td>\n",
       "      <td>23557.568628</td>\n",
       "      <td>26338.719198</td>\n",
       "      <td>30748.810596</td>\n",
       "      <td>30751.662672</td>\n",
       "      <td>25133.631203</td>\n",
       "      <td>20205.384706</td>\n",
       "      <td>12791.534606</td>\n",
       "      <td>11630.69347</td>\n",
       "    </tr>\n",
       "  </tbody>\n",
       "</table>\n",
       "<p>1 rows × 40 columns</p>\n",
       "</div>"
      ],
      "text/plain": [
       "                                      index    district     gmapx     gmapy  \\\n",
       "30  MUSEU DE CIÈNCIES NATURALS DE BARCELONA  Sant Martí  41.41078  2.220482   \n",
       "\n",
       "          id                                     name  \\\n",
       "30  190945.0  MUSEU DE CIÈNCIES NATURALS DE BARCELONA   \n",
       "\n",
       "                                              excerpt  \\\n",
       "30  Ubicat en el singular Edifici Fòrum, el Museu ...   \n",
       "\n",
       "                                              content            categoryName  \\\n",
       "30  &#8220;Planeta Vida&#8221;El Museu de Ciències...  Natural history museum   \n",
       "\n",
       "    temporarilyClosed  ...             3             4             5  \\\n",
       "30              False  ...  15255.077417  20867.947588  23557.568628   \n",
       "\n",
       "               6             7             8             9            10  \\\n",
       "30  26338.719198  30748.810596  30751.662672  25133.631203  20205.384706   \n",
       "\n",
       "              11           12  \n",
       "30  12791.534606  11630.69347  \n",
       "\n",
       "[1 rows x 40 columns]"
      ]
     },
     "execution_count": 344,
     "metadata": {},
     "output_type": "execute_result"
    }
   ],
   "source": [
    "pits_od[pits_od['name']=='MUSEU DE CIÈNCIES NATURALS DE BARCELONA']"
   ]
  },
  {
   "cell_type": "code",
   "execution_count": 348,
   "metadata": {},
   "outputs": [
    {
     "data": {
      "text/html": [
       "<div>\n",
       "<style scoped>\n",
       "    .dataframe tbody tr th:only-of-type {\n",
       "        vertical-align: middle;\n",
       "    }\n",
       "\n",
       "    .dataframe tbody tr th {\n",
       "        vertical-align: top;\n",
       "    }\n",
       "\n",
       "    .dataframe thead th {\n",
       "        text-align: right;\n",
       "    }\n",
       "</style>\n",
       "<table border=\"1\" class=\"dataframe\">\n",
       "  <thead>\n",
       "    <tr style=\"text-align: right;\">\n",
       "      <th></th>\n",
       "      <th>index</th>\n",
       "      <th>district</th>\n",
       "      <th>gmapx</th>\n",
       "      <th>gmapy</th>\n",
       "      <th>id</th>\n",
       "      <th>name</th>\n",
       "      <th>excerpt</th>\n",
       "      <th>content</th>\n",
       "      <th>categoryName</th>\n",
       "      <th>temporarilyClosed</th>\n",
       "      <th>...</th>\n",
       "      <th>3</th>\n",
       "      <th>4</th>\n",
       "      <th>5</th>\n",
       "      <th>6</th>\n",
       "      <th>7</th>\n",
       "      <th>8</th>\n",
       "      <th>9</th>\n",
       "      <th>10</th>\n",
       "      <th>11</th>\n",
       "      <th>12</th>\n",
       "    </tr>\n",
       "  </thead>\n",
       "  <tbody>\n",
       "    <tr>\n",
       "      <th>21</th>\n",
       "      <td>LA SAGRADA FAMILIA</td>\n",
       "      <td>Eixample</td>\n",
       "      <td>41.403942</td>\n",
       "      <td>2.17497</td>\n",
       "      <td>190827.0</td>\n",
       "      <td>TEMPLE EXPIATORI DE LA SAGRADA FAMÍLIA - BASÍLICA</td>\n",
       "      <td>Elevant-se al cel, la Sagrada Família és la si...</td>\n",
       "      <td>Un prodigi modernistaEl temple de la Sagrada F...</td>\n",
       "      <td>Basilica</td>\n",
       "      <td>True</td>\n",
       "      <td>...</td>\n",
       "      <td>293552.64084</td>\n",
       "      <td>401560.802076</td>\n",
       "      <td>453317.036262</td>\n",
       "      <td>506834.568294</td>\n",
       "      <td>591697.721776</td>\n",
       "      <td>591752.604135</td>\n",
       "      <td>483645.124311</td>\n",
       "      <td>388811.139899</td>\n",
       "      <td>246146.817957</td>\n",
       "      <td>223808.813911</td>\n",
       "    </tr>\n",
       "  </tbody>\n",
       "</table>\n",
       "<p>1 rows × 40 columns</p>\n",
       "</div>"
      ],
      "text/plain": [
       "                 index  district      gmapx    gmapy        id  \\\n",
       "21  LA SAGRADA FAMILIA  Eixample  41.403942  2.17497  190827.0   \n",
       "\n",
       "                                                 name  \\\n",
       "21  TEMPLE EXPIATORI DE LA SAGRADA FAMÍLIA - BASÍLICA   \n",
       "\n",
       "                                              excerpt  \\\n",
       "21  Elevant-se al cel, la Sagrada Família és la si...   \n",
       "\n",
       "                                              content categoryName  \\\n",
       "21  Un prodigi modernistaEl temple de la Sagrada F...     Basilica   \n",
       "\n",
       "    temporarilyClosed  ...             3              4              5  \\\n",
       "21               True  ...  293552.64084  401560.802076  453317.036262   \n",
       "\n",
       "                6              7              8              9             10  \\\n",
       "21  506834.568294  591697.721776  591752.604135  483645.124311  388811.139899   \n",
       "\n",
       "               11             12  \n",
       "21  246146.817957  223808.813911  \n",
       "\n",
       "[1 rows x 40 columns]"
      ]
     },
     "execution_count": 348,
     "metadata": {},
     "output_type": "execute_result"
    }
   ],
   "source": [
    "pits_od[pits_od['index'].str.contains('SAGRADA')]"
   ]
  },
  {
   "cell_type": "code",
   "execution_count": null,
   "metadata": {},
   "outputs": [],
   "source": []
  }
 ],
 "metadata": {
  "kernelspec": {
   "display_name": "Python 3",
   "language": "python",
   "name": "python3"
  },
  "language_info": {
   "codemirror_mode": {
    "name": "ipython",
    "version": 3
   },
   "file_extension": ".py",
   "mimetype": "text/x-python",
   "name": "python",
   "nbconvert_exporter": "python",
   "pygments_lexer": "ipython3",
   "version": "3.8.5"
  }
 },
 "nbformat": 4,
 "nbformat_minor": 4
}
